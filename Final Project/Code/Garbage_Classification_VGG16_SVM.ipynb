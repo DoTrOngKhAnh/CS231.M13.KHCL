{
  "cells": [
    {
      "cell_type": "markdown",
      "metadata": {
        "id": "view-in-github",
        "colab_type": "text"
      },
      "source": [
        "<a href=\"https://colab.research.google.com/github/trong-khanh-1109/CS231.M13.KHCL/blob/main/Garbage_Classification_VGG16_SVM.ipynb\" target=\"_parent\"><img src=\"https://colab.research.google.com/assets/colab-badge.svg\" alt=\"Open In Colab\"/></a>"
      ]
    },
    {
      "cell_type": "code",
      "execution_count": null,
      "metadata": {
        "colab": {
          "base_uri": "https://localhost:8080/"
        },
        "id": "b-XEWymHVyDx",
        "outputId": "9e2b62c4-011d-457a-9696-e5d7abcaf0f0"
      },
      "outputs": [
        {
          "output_type": "stream",
          "name": "stdout",
          "text": [
            "/content\n",
            "Downloading...\n",
            "From: https://drive.google.com/uc?id=1C8BEEW_Lw4AUj4tHYNEjKaJIA6nnqYS3\n",
            "To: /content/Garbage classification 1.zip\n",
            "100% 56.7M/56.7M [00:00<00:00, 155MB/s] \n"
          ]
        }
      ],
      "source": [
        "%cd '/content'\n",
        "!gdown https://drive.google.com/uc?id=1C8BEEW_Lw4AUj4tHYNEjKaJIA6nnqYS3\n",
        "# !gdown https://drive.google.com/uc?id=1cexqei_xiWRnw6ne0vyYK5g7LFlc2kbn\n",
        "# !gdown https://drive.google.com/uc?id=1t_2xCN_iLmbK1O6Fm39UTCB2xYzG2lVg"
      ]
    },
    {
      "cell_type": "code",
      "execution_count": null,
      "metadata": {
        "id": "IrCGYk4MV8cm"
      },
      "outputs": [],
      "source": [
        "!unzip '/content/Garbage classification 1.zip'"
      ]
    },
    {
      "cell_type": "code",
      "execution_count": null,
      "metadata": {
        "colab": {
          "base_uri": "https://localhost:8080/"
        },
        "id": "Tc_Yndsu0lv2",
        "outputId": "e9df8426-37cd-4daf-9834-7ce65010dab4"
      },
      "outputs": [
        {
          "output_type": "stream",
          "name": "stdout",
          "text": [
            "Mounted at /content/gdrive\n"
          ]
        }
      ],
      "source": [
        "from google.colab import drive\n",
        "drive._mount('/content/gdrive')"
      ]
    },
    {
      "cell_type": "markdown",
      "metadata": {
        "id": "lKDrPNAPbh9r"
      },
      "source": [
        "# Import library"
      ]
    },
    {
      "cell_type": "code",
      "execution_count": null,
      "metadata": {
        "id": "oqT8YBywbkII"
      },
      "outputs": [],
      "source": [
        "import os\n",
        "import cv2\n",
        "from google.colab.patches import cv2_imshow\n",
        "import numpy as np\n",
        "import pandas as pd\n",
        "import matplotlib.pyplot as plt\n",
        "from sklearn.model_selection import train_test_split\n",
        "from sklearn.metrics import accuracy_score, confusion_matrix, classification_report\n",
        "import tensorflow\n",
        "from tensorflow import keras\n",
        "\n",
        "from tensorflow.keras.preprocessing.image import ImageDataGenerator\n",
        "from tensorflow.keras.applications import VGG16\n",
        "from tensorflow.keras.models import Sequential\n",
        "from tensorflow.keras.layers import Flatten, Dense, Dropout\n",
        "from tensorflow.keras.optimizers import RMSprop, SGD, Adam, Nadam\n",
        "from tensorflow.keras.callbacks import EarlyStopping, ModelCheckpoint\n",
        "import pickle"
      ]
    },
    {
      "cell_type": "code",
      "execution_count": null,
      "metadata": {
        "id": "Y-ld74pbbo8E"
      },
      "outputs": [],
      "source": [
        "FJoin = os.path.join"
      ]
    },
    {
      "cell_type": "markdown",
      "metadata": {
        "id": "ldaJzdbnU4YS"
      },
      "source": [
        "# Statistics"
      ]
    },
    {
      "cell_type": "code",
      "execution_count": null,
      "metadata": {
        "id": "YJhexGGxcGqj"
      },
      "outputs": [],
      "source": [
        "train_path = '/content/Garbage classification/train'\n",
        "validation_path = '/content/Garbage classification/validation'\n",
        "test_path = '/content/Garbage classification/test'\n",
        "path = '/content/Garbage classification'"
      ]
    },
    {
      "cell_type": "code",
      "execution_count": null,
      "metadata": {
        "id": "dH7Y2Qr_r2Ob"
      },
      "outputs": [],
      "source": [
        "def ThongKe(arr_link, label_data, name_data):\n",
        "  tong = 0\n",
        "  for index, arr in enumerate(arr_link):\n",
        "    list_img = os.listdir(arr)\n",
        "    print(\"Number of data {}: {}\".format(label_data[index], len(list_img)))\n",
        "    tong = tong + len(list_img)\n",
        "  print(\"Total of data \" + name_data + \": \" + str(tong))"
      ]
    },
    {
      "cell_type": "code",
      "execution_count": null,
      "metadata": {
        "id": "iQwPs0RqtJzE"
      },
      "outputs": [],
      "source": [
        "def List(path, name_data):\n",
        "  print(\"-------- \" + name_data +  \" --------\")\n",
        "  label_data = sorted(os.listdir(path))\n",
        "  arr_link = [FJoin(path, f) for f in sorted(os.listdir(path))]\n",
        "  ThongKe(arr_link, label_data, name_data)"
      ]
    },
    {
      "cell_type": "code",
      "execution_count": null,
      "metadata": {
        "colab": {
          "base_uri": "https://localhost:8080/"
        },
        "id": "OdrASLKjt-cZ",
        "outputId": "1632d652-5b0a-4e4e-815b-087b3c3b6768"
      },
      "outputs": [
        {
          "output_type": "stream",
          "name": "stdout",
          "text": [
            "-------- train --------\n",
            "Number of data cardboard: 480\n",
            "Number of data glass: 480\n",
            "Number of data metal: 480\n",
            "Number of data paper: 480\n",
            "Number of data plastic: 480\n",
            "Number of data trash: 480\n",
            "Total of data train: 2880\n",
            "\n",
            "\n",
            "\n",
            "-------- validation --------\n",
            "Number of data cardboard: 160\n",
            "Number of data glass: 160\n",
            "Number of data metal: 160\n",
            "Number of data paper: 160\n",
            "Number of data plastic: 160\n",
            "Number of data trash: 160\n",
            "Total of data validation: 960\n",
            "\n",
            "\n",
            "\n",
            "-------- test --------\n",
            "Number of data cardboard: 160\n",
            "Number of data glass: 161\n",
            "Number of data metal: 159\n",
            "Number of data paper: 160\n",
            "Number of data plastic: 160\n",
            "Number of data trash: 161\n",
            "Total of data test: 961\n"
          ]
        }
      ],
      "source": [
        "List(train_path, 'train')\n",
        "print('\\n\\n')\n",
        "List(validation_path, 'validation')\n",
        "print('\\n\\n')\n",
        "List(test_path, 'test')"
      ]
    },
    {
      "cell_type": "markdown",
      "metadata": {
        "id": "UGGhBi7sSlIw"
      },
      "source": [
        "# Data preprocessing"
      ]
    },
    {
      "cell_type": "code",
      "execution_count": null,
      "metadata": {
        "id": "EqY9wWPjXG1b"
      },
      "outputs": [],
      "source": [
        "train_datagen = ImageDataGenerator(\n",
        "        rescale = 1./255,\n",
        "        preprocessing_function=tensorflow.keras.applications.vgg16.preprocess_input,\n",
        "        rotation_range = 20, # Dữ liệu được tạo ra sẽ được xoay ngẫu nhiên một góc trong phạm vi +rotation_rangeđến -rotation_range(tính bằng độ)\n",
        "        width_shift_range = 0.2, # Dịch theo chiều ngang ngẫu nhiên trong một phạm vi nào đó\n",
        "        height_shift_range = 0.2, # Dịch ảnh theo chiều dọc trong một phạm vi nào đó\n",
        "        horizontal_flip = True, # lật ảnh ngẫu nhiên theo chiều ngang\n",
        "        vertical_flip = True, # lật ảnh ngẫu nhiên theo chiều dọc\n",
        ")\n",
        "\n",
        "validation_datagen = ImageDataGenerator(\n",
        "        preprocessing_function=tensorflow.keras.applications.vgg16.preprocess_input,\n",
        "        rescale = 1./255\n",
        ")\n",
        "\n",
        "test_datagen = ImageDataGenerator(\n",
        "        preprocessing_function=tensorflow.keras.applications.vgg16.preprocess_input,\n",
        "        rescale = 1./255\n",
        ")"
      ]
    },
    {
      "cell_type": "code",
      "execution_count": null,
      "metadata": {
        "colab": {
          "base_uri": "https://localhost:8080/"
        },
        "id": "7E_RMm7-YU0N",
        "outputId": "08105d9b-7338-4ef6-ab3a-75f9c192ed9f"
      },
      "outputs": [
        {
          "output_type": "stream",
          "name": "stdout",
          "text": [
            "Found 2880 images belonging to 6 classes.\n",
            "Found 960 images belonging to 6 classes.\n",
            "Found 961 images belonging to 6 classes.\n"
          ]
        }
      ],
      "source": [
        "img_shape = (224, 224, 3)\n",
        "train_batch_size = 16\n",
        "val_batch_size = 16\n",
        "\n",
        "train_generator = train_datagen.flow_from_directory(\n",
        "            path + '/train',\n",
        "            target_size = (img_shape[0], img_shape[1]),\n",
        "            batch_size = train_batch_size,\n",
        "            class_mode = 'sparse',)\n",
        "\n",
        "validation_generator = validation_datagen.flow_from_directory(\n",
        "            path + '/validation',\n",
        "            target_size = (img_shape[0], img_shape[1]),\n",
        "            batch_size = val_batch_size,\n",
        "            class_mode = 'sparse',\n",
        "            shuffle=False)\n",
        "\n",
        "test_generator = test_datagen.flow_from_directory(\n",
        "            path + '/test',\n",
        "            target_size = (img_shape[0], img_shape[1]),\n",
        "            batch_size = val_batch_size,\n",
        "            class_mode = 'sparse',\n",
        "            shuffle=False,)"
      ]
    },
    {
      "cell_type": "code",
      "source": [
        "labels = ['cardboard', 'glass', 'metal', 'paper', 'plastic', 'trash']"
      ],
      "metadata": {
        "id": "V3bcktL9inPX"
      },
      "execution_count": null,
      "outputs": []
    },
    {
      "cell_type": "markdown",
      "metadata": {
        "id": "iGWC1eUzZet4"
      },
      "source": [
        "# Building model VGG16 to extract features"
      ]
    },
    {
      "cell_type": "markdown",
      "metadata": {
        "id": "6U2PbbllZine"
      },
      "source": [
        "## Pretrained Convolutional Base (VGG16)"
      ]
    },
    {
      "cell_type": "code",
      "source": [
        "from tensorflow.keras.applications import VGG16\n",
        "model_VGG16 = VGG16()"
      ],
      "metadata": {
        "id": "ux5mG42xX8cW",
        "colab": {
          "base_uri": "https://localhost:8080/"
        },
        "outputId": "57db21bb-4b44-41bd-ac2e-e37ec126f523"
      },
      "execution_count": null,
      "outputs": [
        {
          "output_type": "stream",
          "name": "stdout",
          "text": [
            "Downloading data from https://storage.googleapis.com/tensorflow/keras-applications/vgg16/vgg16_weights_tf_dim_ordering_tf_kernels.h5\n",
            "553467904/553467096 [==============================] - 8s 0us/step\n",
            "553476096/553467096 [==============================] - 8s 0us/step\n"
          ]
        }
      ]
    },
    {
      "cell_type": "code",
      "execution_count": null,
      "metadata": {
        "id": "qJHpgnqdZjjs"
      },
      "outputs": [],
      "source": [
        "# model_VGG16 = VGG16(weights = 'imagenet',\n",
        "#               include_top = False,\n",
        "#               input_shape = img_shape)"
      ]
    },
    {
      "cell_type": "code",
      "execution_count": null,
      "metadata": {
        "colab": {
          "base_uri": "https://localhost:8080/"
        },
        "id": "DiiV-c2NZ0Df",
        "outputId": "1860a590-ef06-4fc9-8f3e-7b295a0d3177"
      },
      "outputs": [
        {
          "output_type": "stream",
          "name": "stdout",
          "text": [
            "Model: \"vgg16\"\n",
            "_________________________________________________________________\n",
            " Layer (type)                Output Shape              Param #   \n",
            "=================================================================\n",
            " input_1 (InputLayer)        [(None, 224, 224, 3)]     0         \n",
            "                                                                 \n",
            " block1_conv1 (Conv2D)       (None, 224, 224, 64)      1792      \n",
            "                                                                 \n",
            " block1_conv2 (Conv2D)       (None, 224, 224, 64)      36928     \n",
            "                                                                 \n",
            " block1_pool (MaxPooling2D)  (None, 112, 112, 64)      0         \n",
            "                                                                 \n",
            " block2_conv1 (Conv2D)       (None, 112, 112, 128)     73856     \n",
            "                                                                 \n",
            " block2_conv2 (Conv2D)       (None, 112, 112, 128)     147584    \n",
            "                                                                 \n",
            " block2_pool (MaxPooling2D)  (None, 56, 56, 128)       0         \n",
            "                                                                 \n",
            " block3_conv1 (Conv2D)       (None, 56, 56, 256)       295168    \n",
            "                                                                 \n",
            " block3_conv2 (Conv2D)       (None, 56, 56, 256)       590080    \n",
            "                                                                 \n",
            " block3_conv3 (Conv2D)       (None, 56, 56, 256)       590080    \n",
            "                                                                 \n",
            " block3_pool (MaxPooling2D)  (None, 28, 28, 256)       0         \n",
            "                                                                 \n",
            " block4_conv1 (Conv2D)       (None, 28, 28, 512)       1180160   \n",
            "                                                                 \n",
            " block4_conv2 (Conv2D)       (None, 28, 28, 512)       2359808   \n",
            "                                                                 \n",
            " block4_conv3 (Conv2D)       (None, 28, 28, 512)       2359808   \n",
            "                                                                 \n",
            " block4_pool (MaxPooling2D)  (None, 14, 14, 512)       0         \n",
            "                                                                 \n",
            " block5_conv1 (Conv2D)       (None, 14, 14, 512)       2359808   \n",
            "                                                                 \n",
            " block5_conv2 (Conv2D)       (None, 14, 14, 512)       2359808   \n",
            "                                                                 \n",
            " block5_conv3 (Conv2D)       (None, 14, 14, 512)       2359808   \n",
            "                                                                 \n",
            " block5_pool (MaxPooling2D)  (None, 7, 7, 512)         0         \n",
            "                                                                 \n",
            " flatten (Flatten)           (None, 25088)             0         \n",
            "                                                                 \n",
            " fc1 (Dense)                 (None, 4096)              102764544 \n",
            "                                                                 \n",
            " fc2 (Dense)                 (None, 4096)              16781312  \n",
            "                                                                 \n",
            " predictions (Dense)         (None, 1000)              4097000   \n",
            "                                                                 \n",
            "=================================================================\n",
            "Total params: 138,357,544\n",
            "Trainable params: 138,357,544\n",
            "Non-trainable params: 0\n",
            "_________________________________________________________________\n"
          ]
        }
      ],
      "source": [
        "model_VGG16.summary()"
      ]
    },
    {
      "cell_type": "markdown",
      "metadata": {
        "id": "TacymwVg6cLK"
      },
      "source": [
        "## Fine tunning"
      ]
    },
    {
      "cell_type": "code",
      "execution_count": null,
      "metadata": {
        "id": "-eI0XXQ-6bwh"
      },
      "outputs": [],
      "source": [
        "# Freeze the layers except the last 3 layers\n",
        "for layer in model_VGG16.layers[:-3]:\n",
        "    layer.trainable = False"
      ]
    },
    {
      "cell_type": "markdown",
      "source": [
        "# Extract features using VGG16"
      ],
      "metadata": {
        "id": "mVFrXk42Zfa7"
      }
    },
    {
      "cell_type": "markdown",
      "source": [
        "## Take fully connected layers (FC2)"
      ],
      "metadata": {
        "id": "7O5_RoDQZFRX"
      }
    },
    {
      "cell_type": "code",
      "source": [
        "from tensorflow.keras.models import Model\n",
        "layer_fc2 = Model(inputs=model_VGG16.input, outputs=model_VGG16.get_layer('fc2').output)"
      ],
      "metadata": {
        "id": "_GRWzhVhZE4_"
      },
      "execution_count": null,
      "outputs": []
    },
    {
      "cell_type": "code",
      "source": [
        "layer_fc2.summary()"
      ],
      "metadata": {
        "id": "sjGTjKx1QqNL"
      },
      "execution_count": null,
      "outputs": []
    },
    {
      "cell_type": "markdown",
      "source": [
        "## Extracting"
      ],
      "metadata": {
        "id": "3RgDg_7WZosZ"
      }
    },
    {
      "cell_type": "markdown",
      "source": [
        "### Train"
      ],
      "metadata": {
        "id": "7tmeRbuH_94r"
      }
    },
    {
      "cell_type": "code",
      "source": [
        "image = np.zeros((1,4096))\n",
        "label = np.zeros((1))\n",
        "for i, (inputs_batch, labels_batch) in enumerate(train_generator):\n",
        "  features_batch = layer_fc2.predict(inputs_batch)\n",
        "  image = np.concatenate((image, features_batch), axis = 0)\n",
        "  label = np.concatenate((label,labels_batch), axis = 0)\n",
        "  if (i + 1)* train_generator.batch_size >= train_generator.samples :\n",
        "    print('stop')\n",
        "    break\n",
        "  print(i)"
      ],
      "metadata": {
        "id": "iYoRXV7yZtaF"
      },
      "execution_count": null,
      "outputs": []
    },
    {
      "cell_type": "code",
      "source": [
        "image_train = image[1:2881,:]\n",
        "label_train = label[1:2881]"
      ],
      "metadata": {
        "id": "vdjFpZowclVs"
      },
      "execution_count": null,
      "outputs": []
    },
    {
      "cell_type": "markdown",
      "source": [
        "### Validation"
      ],
      "metadata": {
        "id": "JvyWwkl2__b5"
      }
    },
    {
      "cell_type": "code",
      "source": [
        "image = np.zeros((1,4096))\n",
        "label = np.zeros((1))\n",
        "for i, (inputs_batch, labels_batch) in enumerate(validation_generator):\n",
        "  features_batch = layer_fc2.predict(inputs_batch)\n",
        "  image = np.concatenate((image, features_batch), axis = 0)\n",
        "  label = np.concatenate((label,labels_batch), axis = 0)\n",
        "  if (i + 1)* validation_generator.batch_size >= validation_generator.samples :\n",
        "    print('stop')\n",
        "    break"
      ],
      "metadata": {
        "colab": {
          "base_uri": "https://localhost:8080/"
        },
        "id": "9K8QUakCfbVI",
        "outputId": "f87c034d-181a-435d-8592-d0112bb92513"
      },
      "execution_count": null,
      "outputs": [
        {
          "output_type": "stream",
          "name": "stdout",
          "text": [
            "stop\n"
          ]
        }
      ]
    },
    {
      "cell_type": "code",
      "source": [
        "image_validation = image[1:961,:]\n",
        "label_validation = label[1:961]"
      ],
      "metadata": {
        "id": "TP9pP3AZftQT"
      },
      "execution_count": null,
      "outputs": []
    },
    {
      "cell_type": "markdown",
      "source": [
        "### Test"
      ],
      "metadata": {
        "id": "ktaz9XN5ABYD"
      }
    },
    {
      "cell_type": "code",
      "source": [
        "image = np.zeros((1,4096))\n",
        "label = np.zeros((1))\n",
        "for i, (inputs_batch, labels_batch) in enumerate(test_generator):\n",
        "  features_batch = layer_fc2.predict(inputs_batch)\n",
        "  image = np.concatenate((image, features_batch), axis = 0)\n",
        "  label = np.concatenate((label,labels_batch), axis = 0)\n",
        "  if (i + 1)* test_generator.batch_size >= test_generator.samples :\n",
        "    print('stop')\n",
        "    break"
      ],
      "metadata": {
        "colab": {
          "base_uri": "https://localhost:8080/"
        },
        "id": "d-U1-ed6fx31",
        "outputId": "21c03946-c31a-4523-ca7d-7b18a38efa9e"
      },
      "execution_count": null,
      "outputs": [
        {
          "output_type": "stream",
          "name": "stdout",
          "text": [
            "stop\n"
          ]
        }
      ]
    },
    {
      "cell_type": "code",
      "source": [
        "image_test = image[1:962,:]\n",
        "label_test = label[1:962]"
      ],
      "metadata": {
        "id": "X1DwBkLjfy5s"
      },
      "execution_count": null,
      "outputs": []
    },
    {
      "cell_type": "markdown",
      "source": [
        "# Train using model SVM"
      ],
      "metadata": {
        "id": "jI9THswJgedT"
      }
    },
    {
      "cell_type": "markdown",
      "metadata": {
        "id": "zjNTF5RMpYiH"
      },
      "source": [
        "## Function Plot Confusion Matrix"
      ]
    },
    {
      "cell_type": "code",
      "execution_count": null,
      "metadata": {
        "id": "StEEtW12pUVo"
      },
      "outputs": [],
      "source": [
        "import matplotlib.pyplot as plt\n",
        "import itertools\n",
        "def plot_confusion_matrix(cm, classes, normalize=False, title='Confusion matrix', cmap=plt.cm.Blues):\n",
        "    if normalize:\n",
        "        cm = cm.astype('float') / cm.sum(axis=1, keepdims = True)\n",
        "\n",
        "    plt.imshow(cm, interpolation='nearest', cmap=cmap)\n",
        "    plt.title(title)\n",
        "    plt.colorbar()\n",
        "    tick_marks = np.arange(len(classes))\n",
        "    plt.xticks(tick_marks, classes, rotation=45)\n",
        "    plt.yticks(tick_marks, classes)\n",
        "\n",
        "    fmt = '.2f' if normalize else 'd'\n",
        "    thresh = cm.max() / 2.\n",
        "    for i, j in itertools.product(range(cm.shape[0]), range(cm.shape[1])):\n",
        "        plt.text(j, i, format(cm[i, j], fmt),\n",
        "                 horizontalalignment=\"center\",\n",
        "                 color=\"white\" if cm[i, j] > thresh else \"black\")\n",
        "\n",
        "    plt.tight_layout()\n",
        "    plt.ylabel('True label')\n",
        "    plt.xlabel('Predicted label')"
      ]
    },
    {
      "cell_type": "markdown",
      "source": [
        "## Load model"
      ],
      "metadata": {
        "id": "Z5XIgJeTyHEh"
      }
    },
    {
      "cell_type": "code",
      "source": [
        "# load the model from disk\n",
        "# filename = ...\n",
        "# model_SVM = pickle.load(open(filename, 'rb'))"
      ],
      "metadata": {
        "id": "sGZL5XQtyIeG"
      },
      "execution_count": null,
      "outputs": []
    },
    {
      "cell_type": "markdown",
      "source": [
        "## Kernel linear"
      ],
      "metadata": {
        "id": "xg9Cs8FVglf-"
      }
    },
    {
      "cell_type": "code",
      "source": [
        "from sklearn import svm\n",
        "model_SVM = svm.SVC(kernel='linear')\n",
        "model_SVM.fit(image_train, label_train)"
      ],
      "metadata": {
        "colab": {
          "base_uri": "https://localhost:8080/"
        },
        "id": "tABuChw7gnGn",
        "outputId": "b0d7c824-a3c8-492b-9a39-ee85626f10d3"
      },
      "execution_count": null,
      "outputs": [
        {
          "output_type": "execute_result",
          "data": {
            "text/plain": [
              "SVC(kernel='linear')"
            ]
          },
          "metadata": {},
          "execution_count": 25
        }
      ]
    },
    {
      "cell_type": "code",
      "source": [
        "y_predict_vali = model_SVM.predict(image_validation)\n",
        "y_predict_test = model_SVM.predict(image_test)"
      ],
      "metadata": {
        "id": "We2qhz3Pg6Ki"
      },
      "execution_count": null,
      "outputs": []
    },
    {
      "cell_type": "code",
      "source": [
        "print(\"----------------- Validation ------------------\")\n",
        "print(classification_report(label_validation, y_predict_vali, target_names=labels))\n",
        "\n",
        "cnf_matrix = confusion_matrix(label_validation, y_predict_vali)\n",
        "plt.figure()\n",
        "plot_confusion_matrix(cnf_matrix, classes=labels, title='Confusion matrix, without normalization')"
      ],
      "metadata": {
        "colab": {
          "base_uri": "https://localhost:8080/",
          "height": 554
        },
        "id": "ptNk3evZhb48",
        "outputId": "0e2b8501-9faa-4a95-e7a8-659c2cd0a273"
      },
      "execution_count": null,
      "outputs": [
        {
          "output_type": "stream",
          "name": "stdout",
          "text": [
            "----------------- Validation ------------------\n",
            "              precision    recall  f1-score   support\n",
            "\n",
            "   cardboard       0.80      0.88      0.84       160\n",
            "       glass       0.64      0.73      0.68       160\n",
            "       metal       0.64      0.53      0.58       160\n",
            "       paper       0.72      0.64      0.68       160\n",
            "     plastic       0.57      0.39      0.46       160\n",
            "       trash       0.68      0.93      0.78       160\n",
            "\n",
            "    accuracy                           0.68       960\n",
            "   macro avg       0.67      0.68      0.67       960\n",
            "weighted avg       0.67      0.68      0.67       960\n",
            "\n"
          ]
        },
        {
          "output_type": "display_data",
          "data": {
            "image/png": "[encoded data removed]",
            "text/plain": [
              "<Figure size 432x288 with 2 Axes>"
            ]
          },
          "metadata": {
            "needs_background": "light"
          }
        }
      ]
    },
    {
      "cell_type": "code",
      "source": [
        "print(\"----------------- Test ------------------\")\n",
        "print(classification_report(label_test, y_predict_test, target_names=labels))\n",
        "\n",
        "cnf_matrix = confusion_matrix(label_test, y_predict_test)\n",
        "plt.figure()\n",
        "plot_confusion_matrix(cnf_matrix, classes=labels, title='Confusion matrix, without normalization')"
      ],
      "metadata": {
        "colab": {
          "base_uri": "https://localhost:8080/",
          "height": 554
        },
        "id": "MCd7Ik2whpKQ",
        "outputId": "1d30609a-3665-42d3-9bbe-26891f60e90a"
      },
      "execution_count": null,
      "outputs": [
        {
          "output_type": "stream",
          "name": "stdout",
          "text": [
            "----------------- Test ------------------\n",
            "              precision    recall  f1-score   support\n",
            "\n",
            "   cardboard       0.70      0.86      0.77       160\n",
            "       glass       0.64      0.70      0.66       161\n",
            "       metal       0.59      0.65      0.62       159\n",
            "       paper       0.68      0.59      0.63       160\n",
            "     plastic       0.43      0.36      0.39       160\n",
            "       trash       0.47      0.42      0.44       161\n",
            "\n",
            "    accuracy                           0.59       961\n",
            "   macro avg       0.58      0.59      0.59       961\n",
            "weighted avg       0.58      0.59      0.59       961\n",
            "\n"
          ]
        },
        {
          "output_type": "display_data",
          "data": {
            "image/png": "[encoded data removed]",
            "text/plain": [
              "<Figure size 432x288 with 2 Axes>"
            ]
          },
          "metadata": {
            "needs_background": "light"
          }
        }
      ]
    },
    {
      "cell_type": "code",
      "execution_count": null,
      "metadata": {
        "id": "Zh35igZtdy-j"
      },
      "outputs": [],
      "source": [
        "#save model\n",
        "\n",
        "filename = '/content/gdrive/MyDrive/Học kỳ 5/Nhập môn thị giác máy tính/Garbage classification/Save_model/VGG16_SVM/Garbage_Classification_VGG16_SVM_linear_.sav'\n",
        "pickle.dump(model_SVM, open(filename, 'wb'))"
      ]
    },
    {
      "cell_type": "markdown",
      "source": [
        "## Kernel rbf"
      ],
      "metadata": {
        "id": "GLK6jMSvlsmf"
      }
    },
    {
      "cell_type": "code",
      "source": [
        "model_SVM = svm.SVC(kernel='rbf')\n",
        "model_SVM.fit(image_train, label_train)"
      ],
      "metadata": {
        "id": "mLKC9nWZlzmh",
        "colab": {
          "base_uri": "https://localhost:8080/"
        },
        "outputId": "98c4a4a5-e43f-4180-8cbe-ceabeb4a74c1"
      },
      "execution_count": null,
      "outputs": [
        {
          "output_type": "execute_result",
          "data": {
            "text/plain": [
              "SVC()"
            ]
          },
          "metadata": {},
          "execution_count": 32
        }
      ]
    },
    {
      "cell_type": "code",
      "source": [
        "y_predict_vali = model_SVM.predict(image_validation)\n",
        "y_predict_test = model_SVM.predict(image_test)"
      ],
      "metadata": {
        "id": "GytbitVvluwH"
      },
      "execution_count": null,
      "outputs": []
    },
    {
      "cell_type": "code",
      "source": [
        "print(\"----------------- Validation ------------------\")\n",
        "print(classification_report(label_validation, y_predict_vali, target_names=labels))\n",
        "\n",
        "cnf_matrix = confusion_matrix(label_validation, y_predict_vali)\n",
        "plt.figure()\n",
        "plot_confusion_matrix(cnf_matrix, classes=labels, title='Confusion matrix, without normalization')"
      ],
      "metadata": {
        "colab": {
          "base_uri": "https://localhost:8080/",
          "height": 554
        },
        "id": "3ecNEvAgl5N4",
        "outputId": "8489194e-55ef-41eb-a6ed-20f7944b6641"
      },
      "execution_count": null,
      "outputs": [
        {
          "output_type": "stream",
          "name": "stdout",
          "text": [
            "----------------- Validation ------------------\n",
            "              precision    recall  f1-score   support\n",
            "\n",
            "   cardboard       0.62      0.89      0.73       160\n",
            "       glass       0.60      0.44      0.51       160\n",
            "       metal       0.58      0.74      0.65       160\n",
            "       paper       0.71      0.38      0.50       160\n",
            "     plastic       0.45      0.31      0.37       160\n",
            "       trash       0.57      0.75      0.65       160\n",
            "\n",
            "    accuracy                           0.59       960\n",
            "   macro avg       0.59      0.59      0.57       960\n",
            "weighted avg       0.59      0.59      0.57       960\n",
            "\n"
          ]
        },
        {
          "output_type": "display_data",
          "data": {
            "image/png": "[encoded data removed]",
            "text/plain": [
              "<Figure size 432x288 with 2 Axes>"
            ]
          },
          "metadata": {
            "needs_background": "light"
          }
        }
      ]
    },
    {
      "cell_type": "code",
      "source": [
        "print(\"----------------- Test ------------------\")\n",
        "print(classification_report(label_test, y_predict_test, target_names=labels))\n",
        "\n",
        "cnf_matrix = confusion_matrix(label_test, y_predict_test)\n",
        "plt.figure()\n",
        "plot_confusion_matrix(cnf_matrix, classes=labels, title='Confusion matrix, without normalization')"
      ],
      "metadata": {
        "colab": {
          "base_uri": "https://localhost:8080/",
          "height": 554
        },
        "id": "ghD1ux34mAI_",
        "outputId": "5d392f07-08a2-4b7e-8132-4d7ee7fe6423"
      },
      "execution_count": null,
      "outputs": [
        {
          "output_type": "stream",
          "name": "stdout",
          "text": [
            "----------------- Test ------------------\n",
            "              precision    recall  f1-score   support\n",
            "\n",
            "   cardboard       0.56      0.83      0.67       160\n",
            "       glass       0.63      0.43      0.51       161\n",
            "       metal       0.51      0.67      0.58       159\n",
            "       paper       0.77      0.39      0.51       160\n",
            "     plastic       0.40      0.42      0.41       160\n",
            "       trash       0.44      0.43      0.44       161\n",
            "\n",
            "    accuracy                           0.53       961\n",
            "   macro avg       0.55      0.53      0.52       961\n",
            "weighted avg       0.55      0.53      0.52       961\n",
            "\n"
          ]
        },
        {
          "output_type": "display_data",
          "data": {
            "image/png": "[encoded data removed]",
            "text/plain": [
              "<Figure size 432x288 with 2 Axes>"
            ]
          },
          "metadata": {
            "needs_background": "light"
          }
        }
      ]
    },
    {
      "cell_type": "code",
      "source": [
        "filename = '/content/gdrive/MyDrive/Học kỳ 5/Nhập môn thị giác máy tính/Garbage classification/Save_model/VGG16_SVM/Garbage_Classification_VGG16_SVM_rbf.sav'\n",
        "pickle.dump(model_SVM, open(filename, 'wb'))"
      ],
      "metadata": {
        "id": "F9MtQaQ7wYf5"
      },
      "execution_count": null,
      "outputs": []
    },
    {
      "cell_type": "markdown",
      "source": [
        "## Kernel polynomial"
      ],
      "metadata": {
        "id": "sFQGnTg_mB36"
      }
    },
    {
      "cell_type": "code",
      "source": [
        "model_SVM = svm.SVC(kernel='poly')\n",
        "model_SVM.fit(image_train, label_train)"
      ],
      "metadata": {
        "colab": {
          "base_uri": "https://localhost:8080/"
        },
        "id": "oXObQJnSmHfn",
        "outputId": "29f1f17c-ca50-43b0-a395-fc0a1523d46b"
      },
      "execution_count": null,
      "outputs": [
        {
          "output_type": "execute_result",
          "data": {
            "text/plain": [
              "SVC(kernel='poly')"
            ]
          },
          "metadata": {},
          "execution_count": 37
        }
      ]
    },
    {
      "cell_type": "code",
      "source": [
        "y_predict_vali = model_SVM.predict(image_validation)\n",
        "y_predict_test = model_SVM.predict(image_test)"
      ],
      "metadata": {
        "id": "Ao70Rr5AmLY8"
      },
      "execution_count": null,
      "outputs": []
    },
    {
      "cell_type": "code",
      "source": [
        "print(\"----------------- Validation ------------------\")\n",
        "print(classification_report(label_validation, y_predict_vali, target_names=labels))\n",
        "\n",
        "cnf_matrix = confusion_matrix(label_validation, y_predict_vali)\n",
        "plt.figure()\n",
        "plot_confusion_matrix(cnf_matrix, classes=labels, title='Confusion matrix, without normalization')"
      ],
      "metadata": {
        "colab": {
          "base_uri": "https://localhost:8080/",
          "height": 554
        },
        "id": "zNAdNaiOmNXs",
        "outputId": "f731296a-f0e7-4268-8ee6-f64577ffda26"
      },
      "execution_count": null,
      "outputs": [
        {
          "output_type": "stream",
          "name": "stdout",
          "text": [
            "----------------- Validation ------------------\n",
            "              precision    recall  f1-score   support\n",
            "\n",
            "   cardboard       0.66      0.91      0.77       160\n",
            "       glass       0.67      0.49      0.56       160\n",
            "       metal       0.63      0.71      0.67       160\n",
            "       paper       0.81      0.40      0.54       160\n",
            "     plastic       0.50      0.38      0.43       160\n",
            "       trash       0.57      0.86      0.69       160\n",
            "\n",
            "    accuracy                           0.62       960\n",
            "   macro avg       0.64      0.62      0.61       960\n",
            "weighted avg       0.64      0.62      0.61       960\n",
            "\n"
          ]
        },
        {
          "output_type": "display_data",
          "data": {
            "image/png": "[encoded data removed]",
            "text/plain": [
              "<Figure size 432x288 with 2 Axes>"
            ]
          },
          "metadata": {
            "needs_background": "light"
          }
        }
      ]
    },
    {
      "cell_type": "code",
      "source": [
        "print(\"----------------- Test ------------------\")\n",
        "print(classification_report(label_test, y_predict_test, target_names=labels))\n",
        "\n",
        "cnf_matrix = confusion_matrix(label_test, y_predict_test)\n",
        "plt.figure()\n",
        "plot_confusion_matrix(cnf_matrix, classes=labels, title='Confusion matrix, without normalization')"
      ],
      "metadata": {
        "colab": {
          "base_uri": "https://localhost:8080/",
          "height": 554
        },
        "id": "4txaLOhNmOYM",
        "outputId": "c534775c-9f2a-4851-e2a8-3f30dc04f28b"
      },
      "execution_count": null,
      "outputs": [
        {
          "output_type": "stream",
          "name": "stdout",
          "text": [
            "----------------- Test ------------------\n",
            "              precision    recall  f1-score   support\n",
            "\n",
            "   cardboard       0.61      0.88      0.72       160\n",
            "       glass       0.65      0.48      0.55       161\n",
            "       metal       0.54      0.67      0.60       159\n",
            "       paper       0.86      0.39      0.54       160\n",
            "     plastic       0.45      0.44      0.45       160\n",
            "       trash       0.43      0.50      0.47       161\n",
            "\n",
            "    accuracy                           0.56       961\n",
            "   macro avg       0.59      0.56      0.55       961\n",
            "weighted avg       0.59      0.56      0.55       961\n",
            "\n"
          ]
        },
        {
          "output_type": "display_data",
          "data": {
            "image/png": "[encoded data removed]",
            "text/plain": [
              "<Figure size 432x288 with 2 Axes>"
            ]
          },
          "metadata": {
            "needs_background": "light"
          }
        }
      ]
    },
    {
      "cell_type": "code",
      "source": [
        "filename = '/content/gdrive/MyDrive/Học kỳ 5/Nhập môn thị giác máy tính/Garbage classification/Save_model/VGG16_SVM/Garbage_Classification_VGG16_SVM_poly.sav'\n",
        "pickle.dump(model_SVM, open(filename, 'wb'))"
      ],
      "metadata": {
        "id": "Wzma-7UgyVwC"
      },
      "execution_count": null,
      "outputs": []
    },
    {
      "cell_type": "markdown",
      "metadata": {
        "id": "HhML3bCaCAwu"
      },
      "source": [
        "## Predict an image"
      ]
    },
    {
      "cell_type": "code",
      "execution_count": null,
      "metadata": {
        "id": "SxakmjnqEmrD"
      },
      "outputs": [],
      "source": [
        "labels = sorted(os.listdir('/content/Garbage classification/test'))"
      ]
    },
    {
      "cell_type": "code",
      "execution_count": null,
      "metadata": {
        "id": "CGi9q39oCFn-"
      },
      "outputs": [],
      "source": [
        "img = cv2.imread('/content/Garbage classification/test/paper/paper_120.jpg')\n",
        "img = cv2.resize(img, (224, 224))\n",
        "img = img.astype('float32')/255\n",
        "img = img.reshape(1, 224, 224, 3)"
      ]
    },
    {
      "cell_type": "code",
      "execution_count": null,
      "metadata": {
        "id": "6mbpVzBMFYTK"
      },
      "outputs": [],
      "source": [
        "# model = keras.models.load_model('/content/gdrive/MyDrive/Học kỳ 5/Nhập môn thị giác máy tính/Garbage classification/Save_model/VGG16/GB_vgg16.h5')"
      ]
    },
    {
      "cell_type": "code",
      "execution_count": null,
      "metadata": {
        "id": "oT3HFKGXGvMs"
      },
      "outputs": [],
      "source": [
        "y_pred = model_SVM.predict(img)"
      ]
    },
    {
      "cell_type": "code",
      "execution_count": null,
      "metadata": {
        "colab": {
          "base_uri": "https://localhost:8080/"
        },
        "id": "g6PkBhpUG9vD",
        "outputId": "1be9e820-0861-4791-a976-e02c418365d7"
      },
      "outputs": [
        {
          "name": "stdout",
          "output_type": "stream",
          "text": [
            "paper\n"
          ]
        }
      ],
      "source": [
        "y_pred_label = np.argmax(y_pred, axis=1)\n",
        "print(labels[y_pred_label[0]])"
      ]
    }
  ],
  "metadata": {
    "accelerator": "GPU",
    "colab": {
      "collapsed_sections": [
        "HhML3bCaCAwu"
      ],
      "name": "Garbage_Classification_VGG16_SVM.ipynb",
      "provenance": [],
      "include_colab_link": true
    },
    "kernelspec": {
      "display_name": "Python 3",
      "name": "python3"
    },
    "language_info": {
      "name": "python"
    }
  },
  "nbformat": 4,
  "nbformat_minor": 0
}
