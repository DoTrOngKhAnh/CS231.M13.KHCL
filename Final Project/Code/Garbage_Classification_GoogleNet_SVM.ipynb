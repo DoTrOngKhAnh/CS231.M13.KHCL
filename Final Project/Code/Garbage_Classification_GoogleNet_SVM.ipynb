{
  "nbformat": 4,
  "nbformat_minor": 0,
  "metadata": {
    "colab": {
      "name": "Garbage_Classification_GoogleNet_SVM.ipynb",
      "provenance": [],
      "collapsed_sections": [],
      "include_colab_link": true
    },
    "kernelspec": {
      "name": "python3",
      "display_name": "Python 3"
    },
    "language_info": {
      "name": "python"
    },
    "accelerator": "GPU"
  },
  "cells": [
    {
      "cell_type": "markdown",
      "metadata": {
        "id": "view-in-github",
        "colab_type": "text"
      },
      "source": [
        "<a href=\"https://colab.research.google.com/github/trong-khanh-1109/CS231.M13.KHCL/blob/main/Garbage_Classification_GoogleNet_SVM.ipynb\" target=\"_parent\"><img src=\"https://colab.research.google.com/assets/colab-badge.svg\" alt=\"Open In Colab\"/></a>"
      ]
    },
    {
      "cell_type": "code",
      "execution_count": null,
      "metadata": {
        "colab": {
          "base_uri": "https://localhost:8080/"
        },
        "id": "i8TQR8r23fxF",
        "outputId": "961ee87c-68cc-4a0b-ac82-19f45d77fa4a"
      },
      "outputs": [
        {
          "output_type": "stream",
          "name": "stdout",
          "text": [
            "/content\n",
            "Downloading...\n",
            "From: https://drive.google.com/uc?id=1t_2xCN_iLmbK1O6Fm39UTCB2xYzG2lVg\n",
            "To: /content/Garbage classification.zip\n",
            "100% 765M/765M [00:04<00:00, 182MB/s]\n"
          ]
        }
      ],
      "source": [
        "%cd '/content'\n",
        "# !gdown https://drive.google.com/uc?id=1C8BEEW_Lw4AUj4tHYNEjKaJIA6nnqYS3 # old\n",
        "# !gdown https://drive.google.com/uc?id=1cexqei_xiWRnw6ne0vyYK5g7LFlc2kbn #new\n",
        "!gdown https://drive.google.com/uc?id=1t_2xCN_iLmbK1O6Fm39UTCB2xYzG2lVg"
      ]
    },
    {
      "cell_type": "code",
      "source": [
        "!unzip '/content/Garbage classification.zip'"
      ],
      "metadata": {
        "id": "fRx1giJQ39gH"
      },
      "execution_count": null,
      "outputs": []
    },
    {
      "cell_type": "code",
      "source": [
        "from google.colab import drive\n",
        "drive._mount('/content/gdrive')"
      ],
      "metadata": {
        "colab": {
          "base_uri": "https://localhost:8080/"
        },
        "id": "IPa6fY0a9_5q",
        "outputId": "f14dcfb7-5841-43bc-93a3-7f71b0905e7d"
      },
      "execution_count": null,
      "outputs": [
        {
          "output_type": "stream",
          "name": "stdout",
          "text": [
            "Mounted at /content/gdrive\n"
          ]
        }
      ]
    },
    {
      "cell_type": "markdown",
      "source": [
        "# Import library"
      ],
      "metadata": {
        "id": "vW9i0E584CBI"
      }
    },
    {
      "cell_type": "code",
      "source": [
        "import os\n",
        "import numpy as np\n",
        "import tensorflow as tf\n",
        "import matplotlib.pyplot as plt\n",
        "from tensorflow.keras import regularizers\n",
        "from tensorflow.keras.models import Sequential, Model\n",
        "from tensorflow.keras.layers import Input, Flatten, Dense, Dropout, BatchNormalization\n",
        "from tensorflow.keras.layers import Conv2D, MaxPooling2D, AveragePooling2D, ZeroPadding2D\n",
        "from tensorflow.keras.layers import Concatenate\n",
        "from tensorflow.keras.optimizers import Adam, SGD\n",
        "from tensorflow.keras.preprocessing.image import ImageDataGenerator\n",
        "import pandas as pd\n",
        "from sklearn.metrics import accuracy_score, confusion_matrix, classification_report"
      ],
      "metadata": {
        "id": "rXRN8C6t4Brr"
      },
      "execution_count": null,
      "outputs": []
    },
    {
      "cell_type": "code",
      "source": [
        "FJoin = os.path.join"
      ],
      "metadata": {
        "id": "XsdZnFwj4JvO"
      },
      "execution_count": null,
      "outputs": []
    },
    {
      "cell_type": "markdown",
      "source": [
        "# Data preprocessing"
      ],
      "metadata": {
        "id": "DtyC2oi04NKq"
      }
    },
    {
      "cell_type": "code",
      "source": [
        "path = '/content/Garbage classification'"
      ],
      "metadata": {
        "id": "6Y4qbZG65I-_"
      },
      "execution_count": null,
      "outputs": []
    },
    {
      "cell_type": "code",
      "source": [
        "train_datagen = ImageDataGenerator(\n",
        "        rescale = 1./255,\n",
        ")\n",
        "\n",
        "validation_datagen = ImageDataGenerator(\n",
        "        rescale = 1./255\n",
        ")\n",
        "\n",
        "test_datagen = ImageDataGenerator(\n",
        "        rescale = 1./255\n",
        ")"
      ],
      "metadata": {
        "id": "s7pRUt6r4OL2"
      },
      "execution_count": null,
      "outputs": []
    },
    {
      "cell_type": "code",
      "source": [
        "img_shape = (224, 224, 3)\n",
        "train_batch_size = 128\n",
        "val_batch_size = 32\n",
        "\n",
        "train_generator = train_datagen.flow_from_directory(\n",
        "            path + '/train',\n",
        "            target_size = (img_shape[0], img_shape[1]),\n",
        "            batch_size = train_batch_size,\n",
        "            class_mode = 'sparse',)\n",
        "\n",
        "validation_generator = validation_datagen.flow_from_directory(\n",
        "            path + '/validation',\n",
        "            target_size = (img_shape[0], img_shape[1]),\n",
        "            batch_size = val_batch_size,\n",
        "            class_mode = 'sparse',\n",
        "            shuffle=False)\n",
        "\n",
        "test_generator = test_datagen.flow_from_directory(\n",
        "            path + '/test',\n",
        "            target_size = (img_shape[0], img_shape[1]),\n",
        "            batch_size = val_batch_size,\n",
        "            class_mode = 'sparse',\n",
        "            shuffle=False,)"
      ],
      "metadata": {
        "colab": {
          "base_uri": "https://localhost:8080/"
        },
        "id": "vsqALPfB48nU",
        "outputId": "f68c9af9-0b81-4ffe-83c6-8f3c799adb93"
      },
      "execution_count": null,
      "outputs": [
        {
          "output_type": "stream",
          "name": "stdout",
          "text": [
            "Found 28800 images belonging to 6 classes.\n",
            "Found 960 images belonging to 6 classes.\n",
            "Found 961 images belonging to 6 classes.\n"
          ]
        }
      ]
    },
    {
      "cell_type": "code",
      "source": [
        "labels = ['cardboard', 'glass', 'metal', 'paper', 'plastic', 'trash']"
      ],
      "metadata": {
        "id": "jpq5mF_W5M_w"
      },
      "execution_count": null,
      "outputs": []
    },
    {
      "cell_type": "markdown",
      "source": [
        "# Build model GoogleNet to extract features"
      ],
      "metadata": {
        "id": "AfLF5ovd5Qlt"
      }
    },
    {
      "cell_type": "code",
      "source": [
        "# create model\n",
        "def inception(x, filters):\n",
        "    # 1x1\n",
        "    path1 = Conv2D(filters=filters[0], kernel_size=(1,1), strides=1, padding='same', activation='relu')(x)\n",
        "\n",
        "    # 1x1->3x3\n",
        "    path2 = Conv2D(filters=filters[1][0], kernel_size=(1,1), strides=1, padding='same', activation='relu')(x)\n",
        "    path2 = Conv2D(filters=filters[1][1], kernel_size=(3,3), strides=1, padding='same', activation='relu')(path2)\n",
        "    \n",
        "    # 1x1->5x5\n",
        "    path3 = Conv2D(filters=filters[2][0], kernel_size=(1,1), strides=1, padding='same', activation='relu')(x)\n",
        "    path3 = Conv2D(filters=filters[2][1], kernel_size=(5,5), strides=1, padding='same', activation='relu')(path3)\n",
        "\n",
        "    # 3x3->1x1\n",
        "    path4 = MaxPooling2D(pool_size=(3,3), strides=1, padding='same')(x)\n",
        "    path4 = Conv2D(filters=filters[3], kernel_size=(1,1), strides=1, padding='same', activation='relu')(path4)\n",
        "\n",
        "    return Concatenate(axis=-1)([path1,path2,path3,path4])\n",
        "\n",
        "\n",
        "def auxiliary(x, name=None):\n",
        "    layer = AveragePooling2D(pool_size=(5,5), strides=3, padding='valid')(x)\n",
        "    layer = Conv2D(filters=128, kernel_size=(1,1), strides=1, padding='same', activation='relu')(layer)\n",
        "    layer = Flatten()(layer)\n",
        "    layer = Dense(units=256, activation='relu',kernel_regularizer=regularizers.l2(0.0001))(layer)\n",
        "    layer = Dropout(0.5)(layer)\n",
        "    layer = Dense(units=CLASS_NUM, activation='softmax', name=name)(layer)\n",
        "    return layer\n",
        "\n",
        "\n",
        "def googlenet():\n",
        "    layer_in = Input(shape=IMAGE_SHAPE)\n",
        "    \n",
        "    # stage-1\n",
        "    layer = Conv2D(filters=64, kernel_size=(7,7), strides=2, padding='same', activation='relu')(layer_in)\n",
        "    layer = MaxPooling2D(pool_size=(3,3), strides=2, padding='same')(layer)\n",
        "    layer = BatchNormalization()(layer)\n",
        "\n",
        "    # stage-2\n",
        "    layer = Conv2D(filters=64, kernel_size=(1,1), strides=1, padding='same', activation='relu')(layer)\n",
        "    layer = Conv2D(filters=192, kernel_size=(3,3), strides=1, padding='same', activation='relu')(layer)\n",
        "    layer = BatchNormalization()(layer)\n",
        "    layer = MaxPooling2D(pool_size=(3,3), strides=2, padding='same')(layer)\n",
        "\n",
        "    # stage-3\n",
        "    layer = inception(layer, [ 64,  (96,128), (16,32), 32]) #3a\n",
        "    layer = inception(layer, [128, (128,192), (32,96), 64]) #3b\n",
        "    layer = MaxPooling2D(pool_size=(3,3), strides=2, padding='same')(layer)\n",
        "    \n",
        "    # stage-4\n",
        "    layer = inception(layer, [192,  (96,208),  (16,48),  64]) #4a\n",
        "    aux1  = auxiliary(layer, name='aux1')\n",
        "    layer = inception(layer, [160, (112,224),  (24,64),  64]) #4b\n",
        "    layer = inception(layer, [128, (128,256),  (24,64),  64]) #4c\n",
        "    layer = inception(layer, [112, (144,288),  (32,64),  64]) #4d\n",
        "    aux2  = auxiliary(layer, name='aux2')\n",
        "    layer = inception(layer, [256, (160,320), (32,128), 128]) #4e\n",
        "    layer = MaxPooling2D(pool_size=(3,3), strides=2, padding='same')(layer)\n",
        "    \n",
        "    # stage-5\n",
        "    layer = inception(layer, [256, (160,320), (32,128), 128]) #5a\n",
        "    layer = inception(layer, [384, (192,384), (48,128), 128]) #5b\n",
        "    layer = AveragePooling2D(pool_size=(7,7), strides=1, padding='valid')(layer)\n",
        "    \n",
        "    # stage-6\n",
        "    layer = Flatten()(layer)\n",
        "    layer = Dropout(0.5)(layer)\n",
        "    layer = Dense(units=256, activation='linear',kernel_regularizer=regularizers.l2(0.0001))(layer)\n",
        "    main = Dense(units=CLASS_NUM, activation='softmax', name='main')(layer)\n",
        "    \n",
        "    model = Model(inputs=layer_in, outputs=[main, aux1, aux2])\n",
        "    \n",
        "    return model"
      ],
      "metadata": {
        "id": "a6okkzl85SsE"
      },
      "execution_count": null,
      "outputs": []
    },
    {
      "cell_type": "code",
      "source": [
        "CLASS_NUM = 6\n",
        "IMAGE_SHAPE = (224, 224, 3)"
      ],
      "metadata": {
        "id": "yG2fdaTn5zFU"
      },
      "execution_count": null,
      "outputs": []
    },
    {
      "cell_type": "code",
      "source": [
        "model = googlenet()\n",
        "model.summary()"
      ],
      "metadata": {
        "colab": {
          "base_uri": "https://localhost:8080/"
        },
        "id": "XujXfsNH6rk9",
        "outputId": "4988d677-f421-4b9a-8f46-1e294391d237"
      },
      "execution_count": null,
      "outputs": [
        {
          "output_type": "stream",
          "name": "stdout",
          "text": [
            "Model: \"model_5\"\n",
            "__________________________________________________________________________________________________\n",
            " Layer (type)                   Output Shape         Param #     Connected to                     \n",
            "==================================================================================================\n",
            " input_4 (InputLayer)           [(None, 224, 224, 3  0           []                               \n",
            "                                )]                                                                \n",
            "                                                                                                  \n",
            " conv2d_177 (Conv2D)            (None, 112, 112, 64  9472        ['input_4[0][0]']                \n",
            "                                )                                                                 \n",
            "                                                                                                  \n",
            " max_pooling2d_39 (MaxPooling2D  (None, 56, 56, 64)  0           ['conv2d_177[0][0]']             \n",
            " )                                                                                                \n",
            "                                                                                                  \n",
            " batch_normalization_6 (BatchNo  (None, 56, 56, 64)  256         ['max_pooling2d_39[0][0]']       \n",
            " rmalization)                                                                                     \n",
            "                                                                                                  \n",
            " conv2d_178 (Conv2D)            (None, 56, 56, 64)   4160        ['batch_normalization_6[0][0]']  \n",
            "                                                                                                  \n",
            " conv2d_179 (Conv2D)            (None, 56, 56, 192)  110784      ['conv2d_178[0][0]']             \n",
            "                                                                                                  \n",
            " batch_normalization_7 (BatchNo  (None, 56, 56, 192)  768        ['conv2d_179[0][0]']             \n",
            " rmalization)                                                                                     \n",
            "                                                                                                  \n",
            " max_pooling2d_40 (MaxPooling2D  (None, 28, 28, 192)  0          ['batch_normalization_7[0][0]']  \n",
            " )                                                                                                \n",
            "                                                                                                  \n",
            " conv2d_181 (Conv2D)            (None, 28, 28, 96)   18528       ['max_pooling2d_40[0][0]']       \n",
            "                                                                                                  \n",
            " conv2d_183 (Conv2D)            (None, 28, 28, 16)   3088        ['max_pooling2d_40[0][0]']       \n",
            "                                                                                                  \n",
            " max_pooling2d_41 (MaxPooling2D  (None, 28, 28, 192)  0          ['max_pooling2d_40[0][0]']       \n",
            " )                                                                                                \n",
            "                                                                                                  \n",
            " conv2d_180 (Conv2D)            (None, 28, 28, 64)   12352       ['max_pooling2d_40[0][0]']       \n",
            "                                                                                                  \n",
            " conv2d_182 (Conv2D)            (None, 28, 28, 128)  110720      ['conv2d_181[0][0]']             \n",
            "                                                                                                  \n",
            " conv2d_184 (Conv2D)            (None, 28, 28, 32)   12832       ['conv2d_183[0][0]']             \n",
            "                                                                                                  \n",
            " conv2d_185 (Conv2D)            (None, 28, 28, 32)   6176        ['max_pooling2d_41[0][0]']       \n",
            "                                                                                                  \n",
            " concatenate_27 (Concatenate)   (None, 28, 28, 256)  0           ['conv2d_180[0][0]',             \n",
            "                                                                  'conv2d_182[0][0]',             \n",
            "                                                                  'conv2d_184[0][0]',             \n",
            "                                                                  'conv2d_185[0][0]']             \n",
            "                                                                                                  \n",
            " conv2d_187 (Conv2D)            (None, 28, 28, 128)  32896       ['concatenate_27[0][0]']         \n",
            "                                                                                                  \n",
            " conv2d_189 (Conv2D)            (None, 28, 28, 32)   8224        ['concatenate_27[0][0]']         \n",
            "                                                                                                  \n",
            " max_pooling2d_42 (MaxPooling2D  (None, 28, 28, 256)  0          ['concatenate_27[0][0]']         \n",
            " )                                                                                                \n",
            "                                                                                                  \n",
            " conv2d_186 (Conv2D)            (None, 28, 28, 128)  32896       ['concatenate_27[0][0]']         \n",
            "                                                                                                  \n",
            " conv2d_188 (Conv2D)            (None, 28, 28, 192)  221376      ['conv2d_187[0][0]']             \n",
            "                                                                                                  \n",
            " conv2d_190 (Conv2D)            (None, 28, 28, 96)   76896       ['conv2d_189[0][0]']             \n",
            "                                                                                                  \n",
            " conv2d_191 (Conv2D)            (None, 28, 28, 64)   16448       ['max_pooling2d_42[0][0]']       \n",
            "                                                                                                  \n",
            " concatenate_28 (Concatenate)   (None, 28, 28, 480)  0           ['conv2d_186[0][0]',             \n",
            "                                                                  'conv2d_188[0][0]',             \n",
            "                                                                  'conv2d_190[0][0]',             \n",
            "                                                                  'conv2d_191[0][0]']             \n",
            "                                                                                                  \n",
            " max_pooling2d_43 (MaxPooling2D  (None, 14, 14, 480)  0          ['concatenate_28[0][0]']         \n",
            " )                                                                                                \n",
            "                                                                                                  \n",
            " conv2d_193 (Conv2D)            (None, 14, 14, 96)   46176       ['max_pooling2d_43[0][0]']       \n",
            "                                                                                                  \n",
            " conv2d_195 (Conv2D)            (None, 14, 14, 16)   7696        ['max_pooling2d_43[0][0]']       \n",
            "                                                                                                  \n",
            " max_pooling2d_44 (MaxPooling2D  (None, 14, 14, 480)  0          ['max_pooling2d_43[0][0]']       \n",
            " )                                                                                                \n",
            "                                                                                                  \n",
            " conv2d_192 (Conv2D)            (None, 14, 14, 192)  92352       ['max_pooling2d_43[0][0]']       \n",
            "                                                                                                  \n",
            " conv2d_194 (Conv2D)            (None, 14, 14, 208)  179920      ['conv2d_193[0][0]']             \n",
            "                                                                                                  \n",
            " conv2d_196 (Conv2D)            (None, 14, 14, 48)   19248       ['conv2d_195[0][0]']             \n",
            "                                                                                                  \n",
            " conv2d_197 (Conv2D)            (None, 14, 14, 64)   30784       ['max_pooling2d_44[0][0]']       \n",
            "                                                                                                  \n",
            " concatenate_29 (Concatenate)   (None, 14, 14, 512)  0           ['conv2d_192[0][0]',             \n",
            "                                                                  'conv2d_194[0][0]',             \n",
            "                                                                  'conv2d_196[0][0]',             \n",
            "                                                                  'conv2d_197[0][0]']             \n",
            "                                                                                                  \n",
            " conv2d_200 (Conv2D)            (None, 14, 14, 112)  57456       ['concatenate_29[0][0]']         \n",
            "                                                                                                  \n",
            " conv2d_202 (Conv2D)            (None, 14, 14, 24)   12312       ['concatenate_29[0][0]']         \n",
            "                                                                                                  \n",
            " max_pooling2d_45 (MaxPooling2D  (None, 14, 14, 512)  0          ['concatenate_29[0][0]']         \n",
            " )                                                                                                \n",
            "                                                                                                  \n",
            " conv2d_199 (Conv2D)            (None, 14, 14, 160)  82080       ['concatenate_29[0][0]']         \n",
            "                                                                                                  \n",
            " conv2d_201 (Conv2D)            (None, 14, 14, 224)  226016      ['conv2d_200[0][0]']             \n",
            "                                                                                                  \n",
            " conv2d_203 (Conv2D)            (None, 14, 14, 64)   38464       ['conv2d_202[0][0]']             \n",
            "                                                                                                  \n",
            " conv2d_204 (Conv2D)            (None, 14, 14, 64)   32832       ['max_pooling2d_45[0][0]']       \n",
            "                                                                                                  \n",
            " concatenate_30 (Concatenate)   (None, 14, 14, 512)  0           ['conv2d_199[0][0]',             \n",
            "                                                                  'conv2d_201[0][0]',             \n",
            "                                                                  'conv2d_203[0][0]',             \n",
            "                                                                  'conv2d_204[0][0]']             \n",
            "                                                                                                  \n",
            " conv2d_206 (Conv2D)            (None, 14, 14, 128)  65664       ['concatenate_30[0][0]']         \n",
            "                                                                                                  \n",
            " conv2d_208 (Conv2D)            (None, 14, 14, 24)   12312       ['concatenate_30[0][0]']         \n",
            "                                                                                                  \n",
            " max_pooling2d_46 (MaxPooling2D  (None, 14, 14, 512)  0          ['concatenate_30[0][0]']         \n",
            " )                                                                                                \n",
            "                                                                                                  \n",
            " conv2d_205 (Conv2D)            (None, 14, 14, 128)  65664       ['concatenate_30[0][0]']         \n",
            "                                                                                                  \n",
            " conv2d_207 (Conv2D)            (None, 14, 14, 256)  295168      ['conv2d_206[0][0]']             \n",
            "                                                                                                  \n",
            " conv2d_209 (Conv2D)            (None, 14, 14, 64)   38464       ['conv2d_208[0][0]']             \n",
            "                                                                                                  \n",
            " conv2d_210 (Conv2D)            (None, 14, 14, 64)   32832       ['max_pooling2d_46[0][0]']       \n",
            "                                                                                                  \n",
            " concatenate_31 (Concatenate)   (None, 14, 14, 512)  0           ['conv2d_205[0][0]',             \n",
            "                                                                  'conv2d_207[0][0]',             \n",
            "                                                                  'conv2d_209[0][0]',             \n",
            "                                                                  'conv2d_210[0][0]']             \n",
            "                                                                                                  \n",
            " conv2d_212 (Conv2D)            (None, 14, 14, 144)  73872       ['concatenate_31[0][0]']         \n",
            "                                                                                                  \n",
            " conv2d_214 (Conv2D)            (None, 14, 14, 32)   16416       ['concatenate_31[0][0]']         \n",
            "                                                                                                  \n",
            " max_pooling2d_47 (MaxPooling2D  (None, 14, 14, 512)  0          ['concatenate_31[0][0]']         \n",
            " )                                                                                                \n",
            "                                                                                                  \n",
            " conv2d_211 (Conv2D)            (None, 14, 14, 112)  57456       ['concatenate_31[0][0]']         \n",
            "                                                                                                  \n",
            " conv2d_213 (Conv2D)            (None, 14, 14, 288)  373536      ['conv2d_212[0][0]']             \n",
            "                                                                                                  \n",
            " conv2d_215 (Conv2D)            (None, 14, 14, 64)   51264       ['conv2d_214[0][0]']             \n",
            "                                                                                                  \n",
            " conv2d_216 (Conv2D)            (None, 14, 14, 64)   32832       ['max_pooling2d_47[0][0]']       \n",
            "                                                                                                  \n",
            " concatenate_32 (Concatenate)   (None, 14, 14, 528)  0           ['conv2d_211[0][0]',             \n",
            "                                                                  'conv2d_213[0][0]',             \n",
            "                                                                  'conv2d_215[0][0]',             \n",
            "                                                                  'conv2d_216[0][0]']             \n",
            "                                                                                                  \n",
            " conv2d_219 (Conv2D)            (None, 14, 14, 160)  84640       ['concatenate_32[0][0]']         \n",
            "                                                                                                  \n",
            " conv2d_221 (Conv2D)            (None, 14, 14, 32)   16928       ['concatenate_32[0][0]']         \n",
            "                                                                                                  \n",
            " max_pooling2d_48 (MaxPooling2D  (None, 14, 14, 528)  0          ['concatenate_32[0][0]']         \n",
            " )                                                                                                \n",
            "                                                                                                  \n",
            " conv2d_218 (Conv2D)            (None, 14, 14, 256)  135424      ['concatenate_32[0][0]']         \n",
            "                                                                                                  \n",
            " conv2d_220 (Conv2D)            (None, 14, 14, 320)  461120      ['conv2d_219[0][0]']             \n",
            "                                                                                                  \n",
            " conv2d_222 (Conv2D)            (None, 14, 14, 128)  102528      ['conv2d_221[0][0]']             \n",
            "                                                                                                  \n",
            " conv2d_223 (Conv2D)            (None, 14, 14, 128)  67712       ['max_pooling2d_48[0][0]']       \n",
            "                                                                                                  \n",
            " concatenate_33 (Concatenate)   (None, 14, 14, 832)  0           ['conv2d_218[0][0]',             \n",
            "                                                                  'conv2d_220[0][0]',             \n",
            "                                                                  'conv2d_222[0][0]',             \n",
            "                                                                  'conv2d_223[0][0]']             \n",
            "                                                                                                  \n",
            " max_pooling2d_49 (MaxPooling2D  (None, 7, 7, 832)   0           ['concatenate_33[0][0]']         \n",
            " )                                                                                                \n",
            "                                                                                                  \n",
            " conv2d_225 (Conv2D)            (None, 7, 7, 160)    133280      ['max_pooling2d_49[0][0]']       \n",
            "                                                                                                  \n",
            " conv2d_227 (Conv2D)            (None, 7, 7, 32)     26656       ['max_pooling2d_49[0][0]']       \n",
            "                                                                                                  \n",
            " max_pooling2d_50 (MaxPooling2D  (None, 7, 7, 832)   0           ['max_pooling2d_49[0][0]']       \n",
            " )                                                                                                \n",
            "                                                                                                  \n",
            " conv2d_224 (Conv2D)            (None, 7, 7, 256)    213248      ['max_pooling2d_49[0][0]']       \n",
            "                                                                                                  \n",
            " conv2d_226 (Conv2D)            (None, 7, 7, 320)    461120      ['conv2d_225[0][0]']             \n",
            "                                                                                                  \n",
            " conv2d_228 (Conv2D)            (None, 7, 7, 128)    102528      ['conv2d_227[0][0]']             \n",
            "                                                                                                  \n",
            " conv2d_229 (Conv2D)            (None, 7, 7, 128)    106624      ['max_pooling2d_50[0][0]']       \n",
            "                                                                                                  \n",
            " concatenate_34 (Concatenate)   (None, 7, 7, 832)    0           ['conv2d_224[0][0]',             \n",
            "                                                                  'conv2d_226[0][0]',             \n",
            "                                                                  'conv2d_228[0][0]',             \n",
            "                                                                  'conv2d_229[0][0]']             \n",
            "                                                                                                  \n",
            " conv2d_231 (Conv2D)            (None, 7, 7, 192)    159936      ['concatenate_34[0][0]']         \n",
            "                                                                                                  \n",
            " conv2d_233 (Conv2D)            (None, 7, 7, 48)     39984       ['concatenate_34[0][0]']         \n",
            "                                                                                                  \n",
            " max_pooling2d_51 (MaxPooling2D  (None, 7, 7, 832)   0           ['concatenate_34[0][0]']         \n",
            " )                                                                                                \n",
            "                                                                                                  \n",
            " conv2d_230 (Conv2D)            (None, 7, 7, 384)    319872      ['concatenate_34[0][0]']         \n",
            "                                                                                                  \n",
            " conv2d_232 (Conv2D)            (None, 7, 7, 384)    663936      ['conv2d_231[0][0]']             \n",
            "                                                                                                  \n",
            " conv2d_234 (Conv2D)            (None, 7, 7, 128)    153728      ['conv2d_233[0][0]']             \n",
            "                                                                                                  \n",
            " conv2d_235 (Conv2D)            (None, 7, 7, 128)    106624      ['max_pooling2d_51[0][0]']       \n",
            "                                                                                                  \n",
            " concatenate_35 (Concatenate)   (None, 7, 7, 1024)   0           ['conv2d_230[0][0]',             \n",
            "                                                                  'conv2d_232[0][0]',             \n",
            "                                                                  'conv2d_234[0][0]',             \n",
            "                                                                  'conv2d_235[0][0]']             \n",
            "                                                                                                  \n",
            " average_pooling2d_9 (AveragePo  (None, 4, 4, 512)   0           ['concatenate_29[0][0]']         \n",
            " oling2D)                                                                                         \n",
            "                                                                                                  \n",
            " average_pooling2d_10 (AverageP  (None, 4, 4, 528)   0           ['concatenate_32[0][0]']         \n",
            " ooling2D)                                                                                        \n",
            "                                                                                                  \n",
            " average_pooling2d_11 (AverageP  (None, 1, 1, 1024)  0           ['concatenate_35[0][0]']         \n",
            " ooling2D)                                                                                        \n",
            "                                                                                                  \n",
            " conv2d_198 (Conv2D)            (None, 4, 4, 128)    65664       ['average_pooling2d_9[0][0]']    \n",
            "                                                                                                  \n",
            " conv2d_217 (Conv2D)            (None, 4, 4, 128)    67712       ['average_pooling2d_10[0][0]']   \n",
            "                                                                                                  \n",
            " flatten_11 (Flatten)           (None, 1024)         0           ['average_pooling2d_11[0][0]']   \n",
            "                                                                                                  \n",
            " flatten_9 (Flatten)            (None, 2048)         0           ['conv2d_198[0][0]']             \n",
            "                                                                                                  \n",
            " flatten_10 (Flatten)           (None, 2048)         0           ['conv2d_217[0][0]']             \n",
            "                                                                                                  \n",
            " dropout_11 (Dropout)           (None, 1024)         0           ['flatten_11[0][0]']             \n",
            "                                                                                                  \n",
            " dense_9 (Dense)                (None, 256)          524544      ['flatten_9[0][0]']              \n",
            "                                                                                                  \n",
            " dense_10 (Dense)               (None, 256)          524544      ['flatten_10[0][0]']             \n",
            "                                                                                                  \n",
            " dense_11 (Dense)               (None, 256)          262400      ['dropout_11[0][0]']             \n",
            "                                                                                                  \n",
            " dropout_9 (Dropout)            (None, 256)          0           ['dense_9[0][0]']                \n",
            "                                                                                                  \n",
            " dropout_10 (Dropout)           (None, 256)          0           ['dense_10[0][0]']               \n",
            "                                                                                                  \n",
            " main (Dense)                   (None, 6)            1542        ['dense_11[0][0]']               \n",
            "                                                                                                  \n",
            " aux1 (Dense)                   (None, 6)            1542        ['dropout_9[0][0]']              \n",
            "                                                                                                  \n",
            " aux2 (Dense)                   (None, 6)            1542        ['dropout_10[0][0]']             \n",
            "                                                                                                  \n",
            "==================================================================================================\n",
            "Total params: 7,424,066\n",
            "Trainable params: 7,423,554\n",
            "Non-trainable params: 512\n",
            "__________________________________________________________________________________________________\n"
          ]
        }
      ]
    },
    {
      "cell_type": "code",
      "source": [
        "index = 1\n",
        "for layer in model.layers:\n",
        "  print(\"----layer \" + str(index))\n",
        "  print(layer)\n",
        "  index = index + 1"
      ],
      "metadata": {
        "id": "EBDNN8-4ibCr"
      },
      "execution_count": null,
      "outputs": []
    },
    {
      "cell_type": "code",
      "source": [
        "tf.keras.utils.plot_model(model, 'GoogLeNet.png')"
      ],
      "metadata": {
        "id": "bI0BBWe37Cw7"
      },
      "execution_count": null,
      "outputs": []
    },
    {
      "cell_type": "markdown",
      "source": [
        "# Extract features using GoogleNet"
      ],
      "metadata": {
        "id": "LBJ5nQieq1FD"
      }
    },
    {
      "cell_type": "markdown",
      "source": [
        "## Take fully connected layers"
      ],
      "metadata": {
        "id": "RLxO-XUPq6Ga"
      }
    },
    {
      "cell_type": "code",
      "source": [
        "from tensorflow.keras.models import Model\n",
        "layer_extract = Model(inputs=model.input, outputs=model.get_layer('dense_9').output)"
      ],
      "metadata": {
        "id": "TYGr-a-zq22v"
      },
      "execution_count": null,
      "outputs": []
    },
    {
      "cell_type": "code",
      "source": [
        "layer_extract.summary()"
      ],
      "metadata": {
        "colab": {
          "base_uri": "https://localhost:8080/"
        },
        "id": "-rZq0V3vzQiv",
        "outputId": "6f3d6577-7a59-4719-b310-4674ab1c0b1b"
      },
      "execution_count": null,
      "outputs": [
        {
          "output_type": "stream",
          "name": "stdout",
          "text": [
            "Model: \"model_6\"\n",
            "__________________________________________________________________________________________________\n",
            " Layer (type)                   Output Shape         Param #     Connected to                     \n",
            "==================================================================================================\n",
            " input_4 (InputLayer)           [(None, 224, 224, 3  0           []                               \n",
            "                                )]                                                                \n",
            "                                                                                                  \n",
            " conv2d_177 (Conv2D)            (None, 112, 112, 64  9472        ['input_4[0][0]']                \n",
            "                                )                                                                 \n",
            "                                                                                                  \n",
            " max_pooling2d_39 (MaxPooling2D  (None, 56, 56, 64)  0           ['conv2d_177[0][0]']             \n",
            " )                                                                                                \n",
            "                                                                                                  \n",
            " batch_normalization_6 (BatchNo  (None, 56, 56, 64)  256         ['max_pooling2d_39[0][0]']       \n",
            " rmalization)                                                                                     \n",
            "                                                                                                  \n",
            " conv2d_178 (Conv2D)            (None, 56, 56, 64)   4160        ['batch_normalization_6[0][0]']  \n",
            "                                                                                                  \n",
            " conv2d_179 (Conv2D)            (None, 56, 56, 192)  110784      ['conv2d_178[0][0]']             \n",
            "                                                                                                  \n",
            " batch_normalization_7 (BatchNo  (None, 56, 56, 192)  768        ['conv2d_179[0][0]']             \n",
            " rmalization)                                                                                     \n",
            "                                                                                                  \n",
            " max_pooling2d_40 (MaxPooling2D  (None, 28, 28, 192)  0          ['batch_normalization_7[0][0]']  \n",
            " )                                                                                                \n",
            "                                                                                                  \n",
            " conv2d_181 (Conv2D)            (None, 28, 28, 96)   18528       ['max_pooling2d_40[0][0]']       \n",
            "                                                                                                  \n",
            " conv2d_183 (Conv2D)            (None, 28, 28, 16)   3088        ['max_pooling2d_40[0][0]']       \n",
            "                                                                                                  \n",
            " max_pooling2d_41 (MaxPooling2D  (None, 28, 28, 192)  0          ['max_pooling2d_40[0][0]']       \n",
            " )                                                                                                \n",
            "                                                                                                  \n",
            " conv2d_180 (Conv2D)            (None, 28, 28, 64)   12352       ['max_pooling2d_40[0][0]']       \n",
            "                                                                                                  \n",
            " conv2d_182 (Conv2D)            (None, 28, 28, 128)  110720      ['conv2d_181[0][0]']             \n",
            "                                                                                                  \n",
            " conv2d_184 (Conv2D)            (None, 28, 28, 32)   12832       ['conv2d_183[0][0]']             \n",
            "                                                                                                  \n",
            " conv2d_185 (Conv2D)            (None, 28, 28, 32)   6176        ['max_pooling2d_41[0][0]']       \n",
            "                                                                                                  \n",
            " concatenate_27 (Concatenate)   (None, 28, 28, 256)  0           ['conv2d_180[0][0]',             \n",
            "                                                                  'conv2d_182[0][0]',             \n",
            "                                                                  'conv2d_184[0][0]',             \n",
            "                                                                  'conv2d_185[0][0]']             \n",
            "                                                                                                  \n",
            " conv2d_187 (Conv2D)            (None, 28, 28, 128)  32896       ['concatenate_27[0][0]']         \n",
            "                                                                                                  \n",
            " conv2d_189 (Conv2D)            (None, 28, 28, 32)   8224        ['concatenate_27[0][0]']         \n",
            "                                                                                                  \n",
            " max_pooling2d_42 (MaxPooling2D  (None, 28, 28, 256)  0          ['concatenate_27[0][0]']         \n",
            " )                                                                                                \n",
            "                                                                                                  \n",
            " conv2d_186 (Conv2D)            (None, 28, 28, 128)  32896       ['concatenate_27[0][0]']         \n",
            "                                                                                                  \n",
            " conv2d_188 (Conv2D)            (None, 28, 28, 192)  221376      ['conv2d_187[0][0]']             \n",
            "                                                                                                  \n",
            " conv2d_190 (Conv2D)            (None, 28, 28, 96)   76896       ['conv2d_189[0][0]']             \n",
            "                                                                                                  \n",
            " conv2d_191 (Conv2D)            (None, 28, 28, 64)   16448       ['max_pooling2d_42[0][0]']       \n",
            "                                                                                                  \n",
            " concatenate_28 (Concatenate)   (None, 28, 28, 480)  0           ['conv2d_186[0][0]',             \n",
            "                                                                  'conv2d_188[0][0]',             \n",
            "                                                                  'conv2d_190[0][0]',             \n",
            "                                                                  'conv2d_191[0][0]']             \n",
            "                                                                                                  \n",
            " max_pooling2d_43 (MaxPooling2D  (None, 14, 14, 480)  0          ['concatenate_28[0][0]']         \n",
            " )                                                                                                \n",
            "                                                                                                  \n",
            " conv2d_193 (Conv2D)            (None, 14, 14, 96)   46176       ['max_pooling2d_43[0][0]']       \n",
            "                                                                                                  \n",
            " conv2d_195 (Conv2D)            (None, 14, 14, 16)   7696        ['max_pooling2d_43[0][0]']       \n",
            "                                                                                                  \n",
            " max_pooling2d_44 (MaxPooling2D  (None, 14, 14, 480)  0          ['max_pooling2d_43[0][0]']       \n",
            " )                                                                                                \n",
            "                                                                                                  \n",
            " conv2d_192 (Conv2D)            (None, 14, 14, 192)  92352       ['max_pooling2d_43[0][0]']       \n",
            "                                                                                                  \n",
            " conv2d_194 (Conv2D)            (None, 14, 14, 208)  179920      ['conv2d_193[0][0]']             \n",
            "                                                                                                  \n",
            " conv2d_196 (Conv2D)            (None, 14, 14, 48)   19248       ['conv2d_195[0][0]']             \n",
            "                                                                                                  \n",
            " conv2d_197 (Conv2D)            (None, 14, 14, 64)   30784       ['max_pooling2d_44[0][0]']       \n",
            "                                                                                                  \n",
            " concatenate_29 (Concatenate)   (None, 14, 14, 512)  0           ['conv2d_192[0][0]',             \n",
            "                                                                  'conv2d_194[0][0]',             \n",
            "                                                                  'conv2d_196[0][0]',             \n",
            "                                                                  'conv2d_197[0][0]']             \n",
            "                                                                                                  \n",
            " average_pooling2d_9 (AveragePo  (None, 4, 4, 512)   0           ['concatenate_29[0][0]']         \n",
            " oling2D)                                                                                         \n",
            "                                                                                                  \n",
            " conv2d_198 (Conv2D)            (None, 4, 4, 128)    65664       ['average_pooling2d_9[0][0]']    \n",
            "                                                                                                  \n",
            " flatten_9 (Flatten)            (None, 2048)         0           ['conv2d_198[0][0]']             \n",
            "                                                                                                  \n",
            " dense_9 (Dense)                (None, 256)          524544      ['flatten_9[0][0]']              \n",
            "                                                                                                  \n",
            "==================================================================================================\n",
            "Total params: 1,644,256\n",
            "Trainable params: 1,643,744\n",
            "Non-trainable params: 512\n",
            "__________________________________________________________________________________________________\n"
          ]
        }
      ]
    },
    {
      "cell_type": "markdown",
      "source": [
        "## Extracting"
      ],
      "metadata": {
        "id": "XBB4JEySrpUa"
      }
    },
    {
      "cell_type": "code",
      "source": [
        "image = np.zeros((1,256))\n",
        "label = np.zeros((1))\n",
        "for i, (inputs_batch, labels_batch) in enumerate(train_generator):\n",
        "  features_batch = layer_extract.predict(inputs_batch)\n",
        "  image = np.concatenate((image, features_batch), axis = 0)\n",
        "  label = np.concatenate((label,labels_batch), axis = 0)\n",
        "  if (i + 1)* train_generator.batch_size >= train_generator.samples :\n",
        "    print('stop')\n",
        "    break\n",
        "  print(i)"
      ],
      "metadata": {
        "id": "xkAeVEkArp7K"
      },
      "execution_count": null,
      "outputs": []
    },
    {
      "cell_type": "code",
      "source": [
        "image_train = image[1:28801,:]\n",
        "label_train = label[1:28801]"
      ],
      "metadata": {
        "id": "CnUJEfANsRpK"
      },
      "execution_count": null,
      "outputs": []
    },
    {
      "cell_type": "code",
      "source": [
        "image = np.zeros((1,256))\n",
        "label = np.zeros((1))\n",
        "for i, (inputs_batch, labels_batch) in enumerate(validation_generator):\n",
        "  features_batch = layer_extract.predict(inputs_batch)\n",
        "  image = np.concatenate((image, features_batch), axis = 0)\n",
        "  label = np.concatenate((label,labels_batch), axis = 0)\n",
        "  if (i + 1)* validation_generator.batch_size >= validation_generator.samples :\n",
        "    print('stop')\n",
        "    break"
      ],
      "metadata": {
        "id": "WowtHeSSsWK3",
        "colab": {
          "base_uri": "https://localhost:8080/"
        },
        "outputId": "cdabdb3f-5e67-446d-cba0-6836b532c30a"
      },
      "execution_count": null,
      "outputs": [
        {
          "output_type": "stream",
          "name": "stdout",
          "text": [
            "stop\n"
          ]
        }
      ]
    },
    {
      "cell_type": "code",
      "source": [
        "image_validation = image[1:961,:]\n",
        "label_validation = label[1:961]"
      ],
      "metadata": {
        "id": "qaI1RA8Ssb21"
      },
      "execution_count": null,
      "outputs": []
    },
    {
      "cell_type": "code",
      "source": [
        "image = np.zeros((1,256))\n",
        "label = np.zeros((1))\n",
        "for i, (inputs_batch, labels_batch) in enumerate(test_generator):\n",
        "  features_batch = layer_extract.predict(inputs_batch)\n",
        "  image = np.concatenate((image, features_batch), axis = 0)\n",
        "  label = np.concatenate((label,labels_batch), axis = 0)\n",
        "  if (i + 1)* test_generator.batch_size >= test_generator.samples :\n",
        "    print('stop')\n",
        "    break"
      ],
      "metadata": {
        "id": "ipghWMyksdID",
        "colab": {
          "base_uri": "https://localhost:8080/"
        },
        "outputId": "423e42bd-e894-4a2e-b7f4-b92fc99f0a43"
      },
      "execution_count": null,
      "outputs": [
        {
          "output_type": "stream",
          "name": "stdout",
          "text": [
            "stop\n"
          ]
        }
      ]
    },
    {
      "cell_type": "code",
      "source": [
        "image_test = image[1:962,:]\n",
        "label_test = label[1:962]"
      ],
      "metadata": {
        "id": "g9JfgiG0sgEw"
      },
      "execution_count": null,
      "outputs": []
    },
    {
      "cell_type": "markdown",
      "source": [
        "# Train using model SVM"
      ],
      "metadata": {
        "id": "LNf4_nhmsidS"
      }
    },
    {
      "cell_type": "markdown",
      "source": [
        "## Function Plot Confusion Matrix"
      ],
      "metadata": {
        "id": "FTY94yETskm0"
      }
    },
    {
      "cell_type": "code",
      "source": [
        "import matplotlib.pyplot as plt\n",
        "import itertools\n",
        "def plot_confusion_matrix(cm, classes, normalize=False, title='Confusion matrix', cmap=plt.cm.Blues):\n",
        "    if normalize:\n",
        "        cm = cm.astype('float') / cm.sum(axis=1, keepdims = True)\n",
        "\n",
        "    plt.imshow(cm, interpolation='nearest', cmap=cmap)\n",
        "    plt.title(title)\n",
        "    plt.colorbar()\n",
        "    tick_marks = np.arange(len(classes))\n",
        "    plt.xticks(tick_marks, classes, rotation=45)\n",
        "    plt.yticks(tick_marks, classes)\n",
        "\n",
        "    fmt = '.2f' if normalize else 'd'\n",
        "    thresh = cm.max() / 2.\n",
        "    for i, j in itertools.product(range(cm.shape[0]), range(cm.shape[1])):\n",
        "        plt.text(j, i, format(cm[i, j], fmt),\n",
        "                 horizontalalignment=\"center\",\n",
        "                 color=\"white\" if cm[i, j] > thresh else \"black\")\n",
        "\n",
        "    plt.tight_layout()\n",
        "    plt.ylabel('True label')\n",
        "    plt.xlabel('Predicted label')"
      ],
      "metadata": {
        "id": "IUNFfFPzsi9C"
      },
      "execution_count": null,
      "outputs": []
    },
    {
      "cell_type": "markdown",
      "source": [
        "## Load model"
      ],
      "metadata": {
        "id": "1iJSTWsBsoBf"
      }
    },
    {
      "cell_type": "code",
      "source": [
        "# load the model from disk\n",
        "# filename = ...\n",
        "# model_SVM = pickle.load(open(filename, 'rb'))"
      ],
      "metadata": {
        "id": "NN4NBqhgsmS2"
      },
      "execution_count": null,
      "outputs": []
    },
    {
      "cell_type": "markdown",
      "source": [
        "## Kernel linear"
      ],
      "metadata": {
        "id": "Zea_KXB2sqB0"
      }
    },
    {
      "cell_type": "code",
      "source": [
        "from sklearn import svm\n",
        "model_SVM = svm.SVC(kernel='linear')\n",
        "model_SVM.fit(image_train, label_train)"
      ],
      "metadata": {
        "id": "Ur2jId9JsvxS",
        "colab": {
          "base_uri": "https://localhost:8080/"
        },
        "outputId": "14f041ea-ed5f-44f1-c129-3ec204bf6b9c"
      },
      "execution_count": null,
      "outputs": [
        {
          "output_type": "execute_result",
          "data": {
            "text/plain": [
              "SVC(kernel='linear')"
            ]
          },
          "metadata": {},
          "execution_count": 64
        }
      ]
    },
    {
      "cell_type": "code",
      "source": [
        "y_predict_vali = model_SVM.predict(image_validation)\n",
        "y_predict_test = model_SVM.predict(image_test)"
      ],
      "metadata": {
        "id": "GY0UVq55sydf"
      },
      "execution_count": null,
      "outputs": []
    },
    {
      "cell_type": "code",
      "source": [
        "print(\"----------------- Validation ------------------\")\n",
        "print(classification_report(label_validation, y_predict_vali, target_names=labels))\n",
        "\n",
        "cnf_matrix = confusion_matrix(label_validation, y_predict_vali)\n",
        "plt.figure()\n",
        "plot_confusion_matrix(cnf_matrix, classes=labels, title='Confusion matrix, without normalization')"
      ],
      "metadata": {
        "id": "lUtPQMFiszpJ",
        "colab": {
          "base_uri": "https://localhost:8080/",
          "height": 554
        },
        "outputId": "b72c48e1-9b1c-4ea4-d9db-81be019cb3dc"
      },
      "execution_count": null,
      "outputs": [
        {
          "output_type": "stream",
          "name": "stdout",
          "text": [
            "----------------- Validation ------------------\n",
            "              precision    recall  f1-score   support\n",
            "\n",
            "   cardboard       0.63      0.37      0.46       160\n",
            "       glass       0.43      0.33      0.37       160\n",
            "       metal       0.11      0.06      0.07       160\n",
            "       paper       0.23      0.22      0.22       160\n",
            "     plastic       0.18      0.21      0.19       160\n",
            "       trash       0.44      0.87      0.58       160\n",
            "\n",
            "    accuracy                           0.34       960\n",
            "   macro avg       0.33      0.34      0.32       960\n",
            "weighted avg       0.33      0.34      0.32       960\n",
            "\n"
          ]
        },
        {
          "output_type": "display_data",
          "data": {
            "image/png": "[encoded data removed]",
            "text/plain": [
              "<Figure size 432x288 with 2 Axes>"
            ]
          },
          "metadata": {
            "needs_background": "light"
          }
        }
      ]
    },
    {
      "cell_type": "code",
      "source": [
        "print(\"----------------- Test ------------------\")\n",
        "print(classification_report(label_test, y_predict_test, target_names=labels))\n",
        "\n",
        "cnf_matrix = confusion_matrix(label_test, y_predict_test)\n",
        "plt.figure()\n",
        "plot_confusion_matrix(cnf_matrix, classes=labels, title='Confusion matrix, without normalization')"
      ],
      "metadata": {
        "id": "3zQHHFAVs1U1",
        "colab": {
          "base_uri": "https://localhost:8080/",
          "height": 554
        },
        "outputId": "0cfcdf9f-b4b5-408d-fe63-40c364fd4106"
      },
      "execution_count": null,
      "outputs": [
        {
          "output_type": "stream",
          "name": "stdout",
          "text": [
            "----------------- Test ------------------\n",
            "              precision    recall  f1-score   support\n",
            "\n",
            "   cardboard       0.56      0.42      0.48       160\n",
            "       glass       0.36      0.27      0.31       161\n",
            "       metal       0.05      0.03      0.04       159\n",
            "       paper       0.38      0.22      0.28       160\n",
            "     plastic       0.15      0.24      0.18       160\n",
            "       trash       0.17      0.28      0.21       161\n",
            "\n",
            "    accuracy                           0.24       961\n",
            "   macro avg       0.28      0.24      0.25       961\n",
            "weighted avg       0.28      0.24      0.25       961\n",
            "\n"
          ]
        },
        {
          "output_type": "display_data",
          "data": {
            "image/png": "[encoded data removed]",
            "text/plain": [
              "<Figure size 432x288 with 2 Axes>"
            ]
          },
          "metadata": {
            "needs_background": "light"
          }
        }
      ]
    },
    {
      "cell_type": "code",
      "source": [
        "#save model\n",
        "import pickle\n",
        "filename = '/content/gdrive/MyDrive/Học kỳ 5/Nhập môn thị giác máy tính/Garbage classification/Save_model/GoogleNet_SVM/GB_GoogleNet_SVM_linear.sav'\n",
        "pickle.dump(model_SVM, open(filename, 'wb'))"
      ],
      "metadata": {
        "id": "vUPK2u56v6o2"
      },
      "execution_count": null,
      "outputs": []
    },
    {
      "cell_type": "markdown",
      "source": [
        "## Kernel rbf"
      ],
      "metadata": {
        "id": "RO_uXvL8s6Pb"
      }
    },
    {
      "cell_type": "code",
      "source": [
        "model_SVM = svm.SVC(kernel='rbf')\n",
        "model_SVM.fit(image_train, label_train)"
      ],
      "metadata": {
        "id": "c55IiJ8Is6vK",
        "colab": {
          "base_uri": "https://localhost:8080/"
        },
        "outputId": "3e110603-4e16-495e-a7c3-266774362419"
      },
      "execution_count": null,
      "outputs": [
        {
          "output_type": "execute_result",
          "data": {
            "text/plain": [
              "SVC()"
            ]
          },
          "metadata": {},
          "execution_count": 71
        }
      ]
    },
    {
      "cell_type": "code",
      "source": [
        "y_predict_vali = model_SVM.predict(image_validation)\n",
        "y_predict_test = model_SVM.predict(image_test)"
      ],
      "metadata": {
        "id": "yhtAl-zus8RO"
      },
      "execution_count": null,
      "outputs": []
    },
    {
      "cell_type": "code",
      "source": [
        "print(\"----------------- Validation ------------------\")\n",
        "print(classification_report(label_validation, y_predict_vali, target_names=labels))\n",
        "\n",
        "cnf_matrix = confusion_matrix(label_validation, y_predict_vali)\n",
        "plt.figure()\n",
        "plot_confusion_matrix(cnf_matrix, classes=labels, title='Confusion matrix, without normalization')"
      ],
      "metadata": {
        "id": "z-JEh-b5s-Dn",
        "colab": {
          "base_uri": "https://localhost:8080/",
          "height": 554
        },
        "outputId": "217b9fe3-4e05-44cc-acd5-ecb5eb2c9f34"
      },
      "execution_count": null,
      "outputs": [
        {
          "output_type": "stream",
          "name": "stdout",
          "text": [
            "----------------- Validation ------------------\n",
            "              precision    recall  f1-score   support\n",
            "\n",
            "   cardboard       0.82      0.70      0.75       160\n",
            "       glass       0.61      0.47      0.54       160\n",
            "       metal       0.22      0.19      0.20       160\n",
            "       paper       0.33      0.28      0.30       160\n",
            "     plastic       0.17      0.15      0.16       160\n",
            "       trash       0.50      0.89      0.64       160\n",
            "\n",
            "    accuracy                           0.45       960\n",
            "   macro avg       0.44      0.45      0.43       960\n",
            "weighted avg       0.44      0.45      0.43       960\n",
            "\n"
          ]
        },
        {
          "output_type": "display_data",
          "data": {
            "image/png": "[encoded data removed]",
            "text/plain": [
              "<Figure size 432x288 with 2 Axes>"
            ]
          },
          "metadata": {
            "needs_background": "light"
          }
        }
      ]
    },
    {
      "cell_type": "code",
      "source": [
        "print(\"----------------- Test ------------------\")\n",
        "print(classification_report(label_test, y_predict_test, target_names=labels))\n",
        "\n",
        "cnf_matrix = confusion_matrix(label_test, y_predict_test)\n",
        "plt.figure()\n",
        "plot_confusion_matrix(cnf_matrix, classes=labels, title='Confusion matrix, without normalization')"
      ],
      "metadata": {
        "id": "ekg6PjSps_jK",
        "colab": {
          "base_uri": "https://localhost:8080/",
          "height": 554
        },
        "outputId": "ddf6279c-abb1-44e2-844e-8102b7fed2d3"
      },
      "execution_count": null,
      "outputs": [
        {
          "output_type": "stream",
          "name": "stdout",
          "text": [
            "----------------- Test ------------------\n",
            "              precision    recall  f1-score   support\n",
            "\n",
            "   cardboard       0.67      0.63      0.65       160\n",
            "       glass       0.52      0.48      0.50       161\n",
            "       metal       0.12      0.14      0.13       159\n",
            "       paper       0.43      0.24      0.31       160\n",
            "     plastic       0.19      0.19      0.19       160\n",
            "       trash       0.20      0.27      0.23       161\n",
            "\n",
            "    accuracy                           0.33       961\n",
            "   macro avg       0.35      0.33      0.33       961\n",
            "weighted avg       0.35      0.33      0.33       961\n",
            "\n"
          ]
        },
        {
          "output_type": "display_data",
          "data": {
            "image/png": "[encoded data removed]",
            "text/plain": [
              "<Figure size 432x288 with 2 Axes>"
            ]
          },
          "metadata": {
            "needs_background": "light"
          }
        }
      ]
    },
    {
      "cell_type": "code",
      "source": [
        "#save model\n",
        "\n",
        "filename = '/content/gdrive/MyDrive/Học kỳ 5/Nhập môn thị giác máy tính/Garbage classification/Save_model/GoogleNet_SVM/GB_GoogleNet_SVM_rbf.sav'\n",
        "pickle.dump(model_SVM, open(filename, 'wb'))"
      ],
      "metadata": {
        "id": "PM_z5xZntEZz"
      },
      "execution_count": null,
      "outputs": []
    },
    {
      "cell_type": "markdown",
      "source": [
        "## Kernel polynomial"
      ],
      "metadata": {
        "id": "3d9fDewotBTT"
      }
    },
    {
      "cell_type": "code",
      "source": [
        "model_SVM = svm.SVC(kernel='poly')\n",
        "model_SVM.fit(image_train, label_train)"
      ],
      "metadata": {
        "id": "Yp1xDefBtN_2",
        "colab": {
          "base_uri": "https://localhost:8080/"
        },
        "outputId": "dbdf5260-1ad8-422b-cdb8-655dc3504f7a"
      },
      "execution_count": null,
      "outputs": [
        {
          "output_type": "execute_result",
          "data": {
            "text/plain": [
              "SVC(kernel='poly')"
            ]
          },
          "metadata": {},
          "execution_count": 76
        }
      ]
    },
    {
      "cell_type": "code",
      "source": [
        "y_predict_vali = model_SVM.predict(image_validation)\n",
        "y_predict_test = model_SVM.predict(image_test)"
      ],
      "metadata": {
        "id": "9JXGuZzrtQAB"
      },
      "execution_count": null,
      "outputs": []
    },
    {
      "cell_type": "code",
      "source": [
        "print(\"----------------- Validation ------------------\")\n",
        "print(classification_report(label_validation, y_predict_vali, target_names=labels))\n",
        "\n",
        "cnf_matrix = confusion_matrix(label_validation, y_predict_vali)\n",
        "plt.figure()\n",
        "plot_confusion_matrix(cnf_matrix, classes=labels, title='Confusion matrix, without normalization')"
      ],
      "metadata": {
        "id": "xGmU4_QdtRCu",
        "colab": {
          "base_uri": "https://localhost:8080/",
          "height": 554
        },
        "outputId": "716cf105-4472-4c58-a58e-063f10f094e4"
      },
      "execution_count": null,
      "outputs": [
        {
          "output_type": "stream",
          "name": "stdout",
          "text": [
            "----------------- Validation ------------------\n",
            "              precision    recall  f1-score   support\n",
            "\n",
            "   cardboard       0.76      0.72      0.74       160\n",
            "       glass       0.61      0.49      0.55       160\n",
            "       metal       0.31      0.28      0.29       160\n",
            "       paper       0.38      0.26      0.31       160\n",
            "     plastic       0.17      0.17      0.17       160\n",
            "       trash       0.52      0.87      0.65       160\n",
            "\n",
            "    accuracy                           0.47       960\n",
            "   macro avg       0.46      0.47      0.45       960\n",
            "weighted avg       0.46      0.47      0.45       960\n",
            "\n"
          ]
        },
        {
          "output_type": "display_data",
          "data": {
            "image/png": "[encoded data removed]",
            "text/plain": [
              "<Figure size 432x288 with 2 Axes>"
            ]
          },
          "metadata": {
            "needs_background": "light"
          }
        }
      ]
    },
    {
      "cell_type": "code",
      "source": [
        "print(\"----------------- Test ------------------\")\n",
        "print(classification_report(label_test, y_predict_test, target_names=labels))\n",
        "\n",
        "cnf_matrix = confusion_matrix(label_test, y_predict_test)\n",
        "plt.figure()\n",
        "plot_confusion_matrix(cnf_matrix, classes=labels, title='Confusion matrix, without normalization')"
      ],
      "metadata": {
        "id": "Vxhpa6X3tSbh",
        "colab": {
          "base_uri": "https://localhost:8080/",
          "height": 554
        },
        "outputId": "4fab7bed-5b76-4516-e43c-f2e8c2dccffb"
      },
      "execution_count": null,
      "outputs": [
        {
          "output_type": "stream",
          "name": "stdout",
          "text": [
            "----------------- Test ------------------\n",
            "              precision    recall  f1-score   support\n",
            "\n",
            "   cardboard       0.63      0.69      0.66       160\n",
            "       glass       0.53      0.52      0.53       161\n",
            "       metal       0.22      0.25      0.23       159\n",
            "       paper       0.49      0.24      0.33       160\n",
            "     plastic       0.21      0.23      0.22       160\n",
            "       trash       0.23      0.27      0.25       161\n",
            "\n",
            "    accuracy                           0.37       961\n",
            "   macro avg       0.38      0.37      0.37       961\n",
            "weighted avg       0.39      0.37      0.37       961\n",
            "\n"
          ]
        },
        {
          "output_type": "display_data",
          "data": {
            "image/png": "[encoded data removed]",
            "text/plain": [
              "<Figure size 432x288 with 2 Axes>"
            ]
          },
          "metadata": {
            "needs_background": "light"
          }
        }
      ]
    },
    {
      "cell_type": "code",
      "source": [
        "#save model\n",
        "\n",
        "filename = '/content/gdrive/MyDrive/Học kỳ 5/Nhập môn thị giác máy tính/Garbage classification/Save_model/GoogleNet_SVM/GB_GoogleNet_SVM_poly.sav'\n",
        "pickle.dump(model_SVM, open(filename, 'wb'))"
      ],
      "metadata": {
        "id": "akU4wZVPtU46"
      },
      "execution_count": null,
      "outputs": []
    }
  ]
}
