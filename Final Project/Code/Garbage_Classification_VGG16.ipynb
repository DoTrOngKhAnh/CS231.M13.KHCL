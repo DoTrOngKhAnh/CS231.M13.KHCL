{
  "nbformat": 4,
  "nbformat_minor": 0,
  "metadata": {
    "colab": {
      "name": "Garbage_Classification_VGG16.ipynb",
      "provenance": [],
      "collapsed_sections": [],
      "toc_visible": true,
      "include_colab_link": true
    },
    "kernelspec": {
      "name": "python3",
      "display_name": "Python 3"
    },
    "language_info": {
      "name": "python"
    },
    "accelerator": "GPU"
  },
  "cells": [
    {
      "cell_type": "markdown",
      "metadata": {
        "id": "view-in-github",
        "colab_type": "text"
      },
      "source": [
        "<a href=\"https://colab.research.google.com/github/trong-khanh-1109/CS231.M13.KHCL/blob/main/Garbage_Classification_VGG16.ipynb\" target=\"_parent\"><img src=\"https://colab.research.google.com/assets/colab-badge.svg\" alt=\"Open In Colab\"/></a>"
      ]
    },
    {
      "cell_type": "code",
      "execution_count": null,
      "metadata": {
        "colab": {
          "base_uri": "https://localhost:8080/"
        },
        "id": "PCTCUUe7Ggg6",
        "outputId": "3b804631-578f-4d12-8987-41d4c529b3c3"
      },
      "outputs": [
        {
          "output_type": "stream",
          "name": "stdout",
          "text": [
            "Downloading...\n",
            "From: https://drive.google.com/uc?id=1C8BEEW_Lw4AUj4tHYNEjKaJIA6nnqYS3\n",
            "To: /content/Garbage classification 1.zip\n",
            "100% 56.7M/56.7M [00:01<00:00, 37.4MB/s]\n"
          ]
        }
      ],
      "source": [
        "!gdown https://drive.google.com/uc?id=1C8BEEW_Lw4AUj4tHYNEjKaJIA6nnqYS3"
      ]
    },
    {
      "cell_type": "code",
      "source": [
        "!unzip '/content/Garbage classification 1.zip'"
      ],
      "metadata": {
        "id": "9CakGyk3G8Z_"
      },
      "execution_count": null,
      "outputs": []
    },
    {
      "cell_type": "code",
      "source": [
        "from google.colab import drive\n",
        "drive.mount('/content/gdrive')"
      ],
      "metadata": {
        "id": "PuJrXkxXHwJO"
      },
      "execution_count": null,
      "outputs": []
    },
    {
      "cell_type": "markdown",
      "source": [
        "# Import library"
      ],
      "metadata": {
        "id": "S5YyH3H4JT8O"
      }
    },
    {
      "cell_type": "code",
      "source": [
        "import os\n",
        "import cv2\n",
        "from google.colab.patches import cv2_imshow\n",
        "import numpy as np\n",
        "import pandas as pd\n",
        "import matplotlib.pyplot as plt\n",
        "from sklearn.model_selection import train_test_split\n",
        "from sklearn.metrics import accuracy_score, confusion_matrix, classification_report\n",
        "import tensorflow as tf\n",
        "from tensorflow import keras\n",
        "\n",
        "from tensorflow.keras.preprocessing.image import ImageDataGenerator\n",
        "from tensorflow.keras.applications import VGG16\n",
        "from tensorflow.keras.models import Sequential\n",
        "from tensorflow.keras.layers import Flatten, Dense, Dropout, GlobalAveragePooling2D, BatchNormalization\n",
        "from tensorflow.keras.optimizers import RMSprop, SGD, Adam, Nadam\n",
        "from tensorflow.keras.callbacks import EarlyStopping, ModelCheckpoint"
      ],
      "metadata": {
        "id": "YtQP7s40JRxd"
      },
      "execution_count": null,
      "outputs": []
    },
    {
      "cell_type": "code",
      "source": [
        "FJoin = os.path.join\n",
        "train_path = '/content/Garbage classification/train'\n",
        "validation_path = '/content/Garbage classification/validation'\n",
        "test_path = '/content/Garbage classification/test'\n",
        "path = '/content/Garbage classification'"
      ],
      "metadata": {
        "id": "-CqKOICCJYPo"
      },
      "execution_count": null,
      "outputs": []
    },
    {
      "cell_type": "markdown",
      "source": [
        "# Data preprocessing"
      ],
      "metadata": {
        "id": "yx2ebC4RJgiM"
      }
    },
    {
      "cell_type": "code",
      "source": [
        "train_datagen = ImageDataGenerator(\n",
        "        rescale = 1./255,\n",
        "        preprocessing_function=tf.keras.applications.vgg16.preprocess_input,\n",
        "        rotation_range = 20, # Dữ liệu được tạo ra sẽ được xoay ngẫu nhiên một góc trong phạm vi +rotation_rangeđến -rotation_range(tính bằng độ)\n",
        "        width_shift_range = 0.2, # Dịch theo chiều ngang ngẫu nhiên trong một phạm vi nào đó\n",
        "        height_shift_range = 0.2, # Dịch ảnh theo chiều dọc trong một phạm vi nào đó\n",
        "        horizontal_flip = True, # lật ảnh ngẫu nhiên theo chiều ngang\n",
        "        vertical_flip = True, # lật ảnh ngẫu nhiên theo chiều dọc\n",
        ")\n",
        "\n",
        "validation_datagen = ImageDataGenerator(\n",
        "        preprocessing_function=tf.keras.applications.vgg16.preprocess_input,\n",
        "        rescale = 1./255\n",
        ")\n",
        "\n",
        "test_datagen = ImageDataGenerator(\n",
        "        preprocessing_function=tf.keras.applications.vgg16.preprocess_input,\n",
        "        rescale = 1./255\n",
        ")"
      ],
      "metadata": {
        "id": "qyMKtwEYJbM3"
      },
      "execution_count": null,
      "outputs": []
    },
    {
      "cell_type": "code",
      "source": [
        "img_shape = (224, 224, 3)\n",
        "train_batch_size = 16\n",
        "val_batch_size = 16\n",
        "\n",
        "train_generator = train_datagen.flow_from_directory(\n",
        "            path + '/train',\n",
        "            target_size = (img_shape[0], img_shape[1]),\n",
        "            batch_size = train_batch_size,\n",
        "            class_mode='categorical',\n",
        "            )\n",
        "\n",
        "validation_generator = validation_datagen.flow_from_directory(\n",
        "            path + '/validation',\n",
        "            target_size = (img_shape[0], img_shape[1]),\n",
        "            batch_size = val_batch_size,\n",
        "            class_mode='categorical',\n",
        "            shuffle=False)\n",
        "\n",
        "test_generator = test_datagen.flow_from_directory(\n",
        "            path + '/test',\n",
        "            target_size = (img_shape[0], img_shape[1]),\n",
        "            batch_size = val_batch_size,\n",
        "            class_mode='categorical',\n",
        "            shuffle=False,)"
      ],
      "metadata": {
        "colab": {
          "base_uri": "https://localhost:8080/"
        },
        "id": "gExtYVEuKLNy",
        "outputId": "7809c8d8-dcf1-4729-c998-10c7f9277333"
      },
      "execution_count": null,
      "outputs": [
        {
          "output_type": "stream",
          "name": "stdout",
          "text": [
            "Found 2880 images belonging to 6 classes.\n",
            "Found 960 images belonging to 6 classes.\n",
            "Found 961 images belonging to 6 classes.\n"
          ]
        }
      ]
    },
    {
      "cell_type": "code",
      "source": [
        "train_generator.class_indices"
      ],
      "metadata": {
        "colab": {
          "base_uri": "https://localhost:8080/"
        },
        "id": "UFjit1A8MD33",
        "outputId": "8c106f69-cb70-439e-943d-5a3e8ec1be89"
      },
      "execution_count": null,
      "outputs": [
        {
          "output_type": "execute_result",
          "data": {
            "text/plain": [
              "{'cardboard': 0, 'glass': 1, 'metal': 2, 'paper': 3, 'plastic': 4, 'trash': 5}"
            ]
          },
          "metadata": {},
          "execution_count": 10
        }
      ]
    },
    {
      "cell_type": "markdown",
      "source": [
        "# Building model"
      ],
      "metadata": {
        "id": "chLmZVPjMBOP"
      }
    },
    {
      "cell_type": "code",
      "source": [
        "model_VGG16 = VGG16(weights = 'imagenet',\n",
        "              include_top = False,\n",
        "              input_shape = img_shape)"
      ],
      "metadata": {
        "colab": {
          "base_uri": "https://localhost:8080/"
        },
        "id": "OP7wBWVHMI7v",
        "outputId": "d4083f42-f2f9-4cb6-c93a-5a41339aeedf"
      },
      "execution_count": null,
      "outputs": [
        {
          "output_type": "stream",
          "name": "stdout",
          "text": [
            "Downloading data from https://storage.googleapis.com/tensorflow/keras-applications/vgg16/vgg16_weights_tf_dim_ordering_tf_kernels_notop.h5\n",
            "58892288/58889256 [==============================] - 1s 0us/step\n",
            "58900480/58889256 [==============================] - 1s 0us/step\n"
          ]
        }
      ]
    },
    {
      "cell_type": "code",
      "source": [
        "model_VGG16.summary()"
      ],
      "metadata": {
        "colab": {
          "base_uri": "https://localhost:8080/"
        },
        "id": "RqL3MqIxMUv6",
        "outputId": "4596daa4-267d-41a3-f3cd-ee571a76e1d3"
      },
      "execution_count": null,
      "outputs": [
        {
          "output_type": "stream",
          "name": "stdout",
          "text": [
            "Model: \"vgg16\"\n",
            "_________________________________________________________________\n",
            " Layer (type)                Output Shape              Param #   \n",
            "=================================================================\n",
            " input_1 (InputLayer)        [(None, 224, 224, 3)]     0         \n",
            "                                                                 \n",
            " block1_conv1 (Conv2D)       (None, 224, 224, 64)      1792      \n",
            "                                                                 \n",
            " block1_conv2 (Conv2D)       (None, 224, 224, 64)      36928     \n",
            "                                                                 \n",
            " block1_pool (MaxPooling2D)  (None, 112, 112, 64)      0         \n",
            "                                                                 \n",
            " block2_conv1 (Conv2D)       (None, 112, 112, 128)     73856     \n",
            "                                                                 \n",
            " block2_conv2 (Conv2D)       (None, 112, 112, 128)     147584    \n",
            "                                                                 \n",
            " block2_pool (MaxPooling2D)  (None, 56, 56, 128)       0         \n",
            "                                                                 \n",
            " block3_conv1 (Conv2D)       (None, 56, 56, 256)       295168    \n",
            "                                                                 \n",
            " block3_conv2 (Conv2D)       (None, 56, 56, 256)       590080    \n",
            "                                                                 \n",
            " block3_conv3 (Conv2D)       (None, 56, 56, 256)       590080    \n",
            "                                                                 \n",
            " block3_pool (MaxPooling2D)  (None, 28, 28, 256)       0         \n",
            "                                                                 \n",
            " block4_conv1 (Conv2D)       (None, 28, 28, 512)       1180160   \n",
            "                                                                 \n",
            " block4_conv2 (Conv2D)       (None, 28, 28, 512)       2359808   \n",
            "                                                                 \n",
            " block4_conv3 (Conv2D)       (None, 28, 28, 512)       2359808   \n",
            "                                                                 \n",
            " block4_pool (MaxPooling2D)  (None, 14, 14, 512)       0         \n",
            "                                                                 \n",
            " block5_conv1 (Conv2D)       (None, 14, 14, 512)       2359808   \n",
            "                                                                 \n",
            " block5_conv2 (Conv2D)       (None, 14, 14, 512)       2359808   \n",
            "                                                                 \n",
            " block5_conv3 (Conv2D)       (None, 14, 14, 512)       2359808   \n",
            "                                                                 \n",
            " block5_pool (MaxPooling2D)  (None, 7, 7, 512)         0         \n",
            "                                                                 \n",
            "=================================================================\n",
            "Total params: 14,714,688\n",
            "Trainable params: 14,714,688\n",
            "Non-trainable params: 0\n",
            "_________________________________________________________________\n"
          ]
        }
      ]
    },
    {
      "cell_type": "markdown",
      "source": [
        "## Fine tunning"
      ],
      "metadata": {
        "id": "jIbk8jULMzZ4"
      }
    },
    {
      "cell_type": "code",
      "source": [
        "model_VGG16.trainable = False"
      ],
      "metadata": {
        "id": "jfNtqcUBM2bq"
      },
      "execution_count": null,
      "outputs": []
    },
    {
      "cell_type": "markdown",
      "source": [
        "## Model definition"
      ],
      "metadata": {
        "id": "4F6R2jcgM8Ey"
      }
    },
    {
      "cell_type": "code",
      "source": [
        "model = Sequential()\n",
        "model.add(model_VGG16)\n",
        "\n",
        "# add global average pooling layer\n",
        "model.add(GlobalAveragePooling2D())\n",
        "\n",
        "model.add(Dense(units=512, activation='relu'))  # use ReLU activation function\n",
        "model.add(BatchNormalization())                 # normalize and scale inputs or activations\n",
        "model.add(Dropout(0.2))  \n",
        "\n",
        "model.add(Dense(units=6, activation='softmax'))\n",
        "model.summary()"
      ],
      "metadata": {
        "id": "CfpoSxYwM-kO",
        "colab": {
          "base_uri": "https://localhost:8080/"
        },
        "outputId": "ac00725f-ebff-476c-cf35-1a5171859f48"
      },
      "execution_count": null,
      "outputs": [
        {
          "output_type": "stream",
          "name": "stdout",
          "text": [
            "Model: \"sequential\"\n",
            "_________________________________________________________________\n",
            " Layer (type)                Output Shape              Param #   \n",
            "=================================================================\n",
            " vgg16 (Functional)          (None, 7, 7, 512)         14714688  \n",
            "                                                                 \n",
            " global_average_pooling2d (G  (None, 512)              0         \n",
            " lobalAveragePooling2D)                                          \n",
            "                                                                 \n",
            " dense (Dense)               (None, 512)               262656    \n",
            "                                                                 \n",
            " batch_normalization (BatchN  (None, 512)              2048      \n",
            " ormalization)                                                   \n",
            "                                                                 \n",
            " dropout (Dropout)           (None, 512)               0         \n",
            "                                                                 \n",
            " dense_1 (Dense)             (None, 6)                 3078      \n",
            "                                                                 \n",
            "=================================================================\n",
            "Total params: 14,982,470\n",
            "Trainable params: 266,758\n",
            "Non-trainable params: 14,715,712\n",
            "_________________________________________________________________\n"
          ]
        }
      ]
    },
    {
      "cell_type": "markdown",
      "source": [
        "# Compile model"
      ],
      "metadata": {
        "id": "5BnyTnoh1CFw"
      }
    },
    {
      "cell_type": "code",
      "source": [
        "model.compile(optimizer=Adam(learning_rate=0.0001), loss='categorical_crossentropy', metrics=['accuracy'])"
      ],
      "metadata": {
        "id": "UMvrVUTD1Bqy"
      },
      "execution_count": null,
      "outputs": []
    },
    {
      "cell_type": "markdown",
      "source": [
        "# Train the CNN model"
      ],
      "metadata": {
        "id": "UlAZ2KhY1J9e"
      }
    },
    {
      "cell_type": "code",
      "source": [
        "History = model.fit(train_generator,\n",
        "          validation_data=validation_generator,\n",
        "          epochs=20,\n",
        "          verbose=1)"
      ],
      "metadata": {
        "colab": {
          "base_uri": "https://localhost:8080/"
        },
        "id": "wI0EBntZ1MGU",
        "outputId": "c18dde75-7ffc-4950-c9d7-743210e9ba18"
      },
      "execution_count": null,
      "outputs": [
        {
          "output_type": "stream",
          "name": "stdout",
          "text": [
            "Epoch 1/20\n",
            "180/180 [==============================] - 71s 307ms/step - loss: 1.2166 - accuracy: 0.5569 - val_loss: 1.5189 - val_accuracy: 0.4375\n",
            "Epoch 2/20\n",
            "180/180 [==============================] - 56s 309ms/step - loss: 0.8598 - accuracy: 0.6962 - val_loss: 1.2341 - val_accuracy: 0.5448\n",
            "Epoch 3/20\n",
            "180/180 [==============================] - 56s 308ms/step - loss: 0.7631 - accuracy: 0.7337 - val_loss: 1.0678 - val_accuracy: 0.6187\n",
            "Epoch 4/20\n",
            "180/180 [==============================] - 54s 301ms/step - loss: 0.6853 - accuracy: 0.7622 - val_loss: 1.0703 - val_accuracy: 0.6187\n",
            "Epoch 5/20\n",
            "180/180 [==============================] - 54s 301ms/step - loss: 0.6617 - accuracy: 0.7646 - val_loss: 1.1408 - val_accuracy: 0.6167\n",
            "Epoch 6/20\n",
            "180/180 [==============================] - 54s 300ms/step - loss: 0.6241 - accuracy: 0.7840 - val_loss: 0.9494 - val_accuracy: 0.6625\n",
            "Epoch 7/20\n",
            "180/180 [==============================] - 54s 300ms/step - loss: 0.5778 - accuracy: 0.7944 - val_loss: 1.0251 - val_accuracy: 0.6469\n",
            "Epoch 8/20\n",
            "180/180 [==============================] - 54s 301ms/step - loss: 0.5863 - accuracy: 0.7920 - val_loss: 1.0018 - val_accuracy: 0.6573\n",
            "Epoch 9/20\n",
            "180/180 [==============================] - 54s 301ms/step - loss: 0.5565 - accuracy: 0.7944 - val_loss: 0.9907 - val_accuracy: 0.6562\n",
            "Epoch 10/20\n",
            "180/180 [==============================] - 54s 301ms/step - loss: 0.5407 - accuracy: 0.8031 - val_loss: 0.9198 - val_accuracy: 0.6771\n",
            "Epoch 11/20\n",
            "180/180 [==============================] - 54s 301ms/step - loss: 0.5350 - accuracy: 0.8101 - val_loss: 0.9272 - val_accuracy: 0.6854\n",
            "Epoch 12/20\n",
            "180/180 [==============================] - 54s 300ms/step - loss: 0.5296 - accuracy: 0.8118 - val_loss: 0.8801 - val_accuracy: 0.6917\n",
            "Epoch 13/20\n",
            "180/180 [==============================] - 54s 300ms/step - loss: 0.5110 - accuracy: 0.8177 - val_loss: 0.8459 - val_accuracy: 0.7031\n",
            "Epoch 14/20\n",
            "180/180 [==============================] - 54s 300ms/step - loss: 0.4923 - accuracy: 0.8184 - val_loss: 0.9161 - val_accuracy: 0.6844\n",
            "Epoch 15/20\n",
            "180/180 [==============================] - 54s 300ms/step - loss: 0.4880 - accuracy: 0.8309 - val_loss: 0.8639 - val_accuracy: 0.7063\n",
            "Epoch 16/20\n",
            "180/180 [==============================] - 54s 299ms/step - loss: 0.4698 - accuracy: 0.8316 - val_loss: 0.8702 - val_accuracy: 0.7000\n",
            "Epoch 17/20\n",
            "180/180 [==============================] - 54s 299ms/step - loss: 0.4812 - accuracy: 0.8344 - val_loss: 0.8264 - val_accuracy: 0.7240\n",
            "Epoch 18/20\n",
            "180/180 [==============================] - 54s 299ms/step - loss: 0.4771 - accuracy: 0.8382 - val_loss: 0.8543 - val_accuracy: 0.7083\n",
            "Epoch 19/20\n",
            "180/180 [==============================] - 54s 302ms/step - loss: 0.4328 - accuracy: 0.8538 - val_loss: 0.7783 - val_accuracy: 0.7417\n",
            "Epoch 20/20\n",
            "180/180 [==============================] - 54s 299ms/step - loss: 0.4521 - accuracy: 0.8451 - val_loss: 0.8599 - val_accuracy: 0.7042\n"
          ]
        }
      ]
    },
    {
      "cell_type": "code",
      "source": [
        "loss = History.history['loss']\n",
        "validation_loss = History.history['val_loss']\n",
        "\n",
        "accuracy = History.history['accuracy']\n",
        "validation_accuracy = History.history['val_accuracy']"
      ],
      "metadata": {
        "id": "1GHr1oiD5tdF"
      },
      "execution_count": null,
      "outputs": []
    },
    {
      "cell_type": "markdown",
      "source": [
        "# Unfreeze the convolution base "
      ],
      "metadata": {
        "id": "BSf2__Ou6AXU"
      }
    },
    {
      "cell_type": "code",
      "source": [
        "model_VGG16.trainable=True"
      ],
      "metadata": {
        "id": "NOu1_E2I6Kx6"
      },
      "execution_count": null,
      "outputs": []
    },
    {
      "cell_type": "code",
      "source": [
        "model.summary()"
      ],
      "metadata": {
        "colab": {
          "base_uri": "https://localhost:8080/"
        },
        "id": "UDZXvkv36QBN",
        "outputId": "9bcb598c-d4fd-48af-ca72-5513418dd0eb"
      },
      "execution_count": null,
      "outputs": [
        {
          "output_type": "stream",
          "name": "stdout",
          "text": [
            "Model: \"sequential\"\n",
            "_________________________________________________________________\n",
            " Layer (type)                Output Shape              Param #   \n",
            "=================================================================\n",
            " vgg16 (Functional)          (None, 7, 7, 512)         14714688  \n",
            "                                                                 \n",
            " global_average_pooling2d (G  (None, 512)              0         \n",
            " lobalAveragePooling2D)                                          \n",
            "                                                                 \n",
            " dense (Dense)               (None, 512)               262656    \n",
            "                                                                 \n",
            " batch_normalization (BatchN  (None, 512)              2048      \n",
            " ormalization)                                                   \n",
            "                                                                 \n",
            " dropout (Dropout)           (None, 512)               0         \n",
            "                                                                 \n",
            " dense_1 (Dense)             (None, 6)                 3078      \n",
            "                                                                 \n",
            "=================================================================\n",
            "Total params: 14,982,470\n",
            "Trainable params: 14,981,446\n",
            "Non-trainable params: 1,024\n",
            "_________________________________________________________________\n"
          ]
        }
      ]
    },
    {
      "cell_type": "code",
      "source": [
        "History = model.fit(train_generator,\n",
        "          validation_data=validation_generator,\n",
        "          epochs=5,\n",
        "          verbose=1)"
      ],
      "metadata": {
        "colab": {
          "base_uri": "https://localhost:8080/"
        },
        "id": "D651RJtc6Un3",
        "outputId": "81d6c564-5bf1-48f2-8f69-1878fe4fbfdb"
      },
      "execution_count": null,
      "outputs": [
        {
          "output_type": "stream",
          "name": "stdout",
          "text": [
            "Epoch 1/5\n",
            "180/180 [==============================] - 55s 305ms/step - loss: 0.4430 - accuracy: 0.8427 - val_loss: 0.8255 - val_accuracy: 0.7281\n",
            "Epoch 2/5\n",
            "180/180 [==============================] - 55s 306ms/step - loss: 0.4335 - accuracy: 0.8441 - val_loss: 0.8147 - val_accuracy: 0.7323\n",
            "Epoch 3/5\n",
            "180/180 [==============================] - 56s 309ms/step - loss: 0.4260 - accuracy: 0.8490 - val_loss: 0.8456 - val_accuracy: 0.7177\n",
            "Epoch 4/5\n",
            "180/180 [==============================] - 54s 300ms/step - loss: 0.4308 - accuracy: 0.8517 - val_loss: 0.8892 - val_accuracy: 0.7104\n",
            "Epoch 5/5\n",
            "180/180 [==============================] - 54s 299ms/step - loss: 0.4037 - accuracy: 0.8601 - val_loss: 0.8259 - val_accuracy: 0.7292\n"
          ]
        }
      ]
    },
    {
      "cell_type": "markdown",
      "source": [
        "# Visulization of Accuracy and Loss in Training and Validation sets"
      ],
      "metadata": {
        "id": "eB961sdT7e97"
      }
    },
    {
      "cell_type": "code",
      "source": [
        "loss.extend(History.history['loss'])\n",
        "validation_loss.extend(History.history['val_loss'])\n",
        "\n",
        "accuracy.extend(History.history['accuracy'])\n",
        "validation_accuracy.extend(History.history['val_accuracy'])"
      ],
      "metadata": {
        "id": "u9AGrW2S7eMn"
      },
      "execution_count": null,
      "outputs": []
    },
    {
      "cell_type": "code",
      "source": [
        "# plot the training and validation losses\n",
        "epochs = range(1, len(loss)+1)\n",
        "\n",
        "fig1 = plt.figure(figsize=(10,6))\n",
        "plt.plot(epochs,loss,c=\"red\",label=\"Training\")\n",
        "plt.plot(epochs,validation_loss,c=\"blue\",label=\"Validation\")\n",
        "plt.xlabel(\"Epochs\")\n",
        "plt.ylabel(\"Loss\")\n",
        "plt.xticks(epochs)\n",
        "plt.title('Training and validation loss')\n",
        "plt.legend()"
      ],
      "metadata": {
        "colab": {
          "base_uri": "https://localhost:8080/",
          "height": 422
        },
        "id": "0IsHu7847o5l",
        "outputId": "5e96393a-6af0-487e-ee41-f7832851d5ae"
      },
      "execution_count": null,
      "outputs": [
        {
          "output_type": "execute_result",
          "data": {
            "text/plain": [
              "<matplotlib.legend.Legend at 0x7f12d03ee690>"
            ]
          },
          "metadata": {},
          "execution_count": 22
        },
        {
          "output_type": "display_data",
          "data": {
            "image/png": "[encoded data removed]",
            "text/plain": [
              "<Figure size 720x432 with 1 Axes>"
            ]
          },
          "metadata": {
            "needs_background": "light"
          }
        }
      ]
    },
    {
      "cell_type": "code",
      "source": [
        "# plot the training and validation accuracy\n",
        "epochs = range(1, len(accuracy)+1)\n",
        "\n",
        "fig2 = plt.figure(figsize=(10,6))\n",
        "plt.plot(epochs,accuracy,c=\"red\",label=\"Training\")\n",
        "plt.plot(epochs,validation_accuracy,c=\"blue\",label=\"Validation\")\n",
        "plt.xlabel(\"Epochs\")\n",
        "plt.ylabel(\"Accuracy\")\n",
        "plt.xticks(epochs)\n",
        "plt.title('Training and validation accuracy')\n",
        "plt.legend()"
      ],
      "metadata": {
        "colab": {
          "base_uri": "https://localhost:8080/",
          "height": 422
        },
        "id": "x7DoNtvd7vV7",
        "outputId": "f234bee0-79e7-488b-b879-e31abb76012a"
      },
      "execution_count": null,
      "outputs": [
        {
          "output_type": "execute_result",
          "data": {
            "text/plain": [
              "<matplotlib.legend.Legend at 0x7f1256cef2d0>"
            ]
          },
          "metadata": {},
          "execution_count": 21
        },
        {
          "output_type": "display_data",
          "data": {
            "image/png": "[encoded data removed]",
            "text/plain": [
              "<Figure size 720x432 with 1 Axes>"
            ]
          },
          "metadata": {
            "needs_background": "light"
          }
        }
      ]
    },
    {
      "cell_type": "code",
      "source": [
        "# save model \n",
        "model.save('/content/GarBage_Classification_VGG16_finetune.h5')"
      ],
      "metadata": {
        "id": "xaCJBOOo762d"
      },
      "execution_count": null,
      "outputs": []
    },
    {
      "cell_type": "markdown",
      "source": [
        "# Test"
      ],
      "metadata": {
        "id": "pIcV18UQ75VW"
      }
    },
    {
      "cell_type": "code",
      "source": [
        "import matplotlib.pyplot as plt\n",
        "import itertools\n",
        "def plot_confusion_matrix(cm, classes, normalize=False, title='Confusion matrix', cmap=plt.cm.Blues):\n",
        "    if normalize:\n",
        "        cm = cm.astype('float') / cm.sum(axis=1, keepdims = True)\n",
        "\n",
        "    plt.imshow(cm, interpolation='nearest', cmap=cmap)\n",
        "    plt.title(title)\n",
        "    plt.colorbar()\n",
        "    tick_marks = np.arange(len(classes))\n",
        "    plt.xticks(tick_marks, classes, rotation=45)\n",
        "    plt.yticks(tick_marks, classes)\n",
        "\n",
        "    fmt = '.2f' if normalize else 'd'\n",
        "    thresh = cm.max() / 2.\n",
        "    for i, j in itertools.product(range(cm.shape[0]), range(cm.shape[1])):\n",
        "        plt.text(j, i, format(cm[i, j], fmt),\n",
        "                 horizontalalignment=\"center\",\n",
        "                 color=\"white\" if cm[i, j] > thresh else \"black\")\n",
        "\n",
        "    plt.tight_layout()\n",
        "    plt.ylabel('True label')\n",
        "    plt.xlabel('Predicted label')"
      ],
      "metadata": {
        "id": "nBEtdQOg8Ztd"
      },
      "execution_count": null,
      "outputs": []
    },
    {
      "cell_type": "code",
      "source": [
        "# load model\n",
        "model = keras.models.load_model(\"/content/gdrive/MyDrive/Học kỳ 5/Nhập môn thị giác máy tính/Garbage classification/Save_model/VGG16/GarBage_Classification_VGG16_finetune.h5\")"
      ],
      "metadata": {
        "id": "retskXbt8bFM"
      },
      "execution_count": null,
      "outputs": []
    },
    {
      "cell_type": "code",
      "source": [
        "# accuracy \n",
        "score = model.evaluate(test_generator)\n",
        "print(\"Accuracy of test data: {:.2f}%\".format(score[1]*100))"
      ],
      "metadata": {
        "colab": {
          "base_uri": "https://localhost:8080/"
        },
        "id": "IjXlUIDv8knx",
        "outputId": "d1d62e16-acda-481c-ed5d-04b64ba9775a"
      },
      "execution_count": null,
      "outputs": [
        {
          "output_type": "stream",
          "name": "stdout",
          "text": [
            "61/61 [==============================] - 9s 149ms/step - loss: 1.3058 - accuracy: 0.6348\n",
            "Accuracy of test data: 63.48%\n"
          ]
        }
      ]
    },
    {
      "cell_type": "markdown",
      "source": [
        "## Plot Confunsion matrix"
      ],
      "metadata": {
        "id": "Gm40H56q8yOe"
      }
    },
    {
      "cell_type": "code",
      "source": [
        "Y_pred = model.predict(test_generator, 961 // val_batch_size+1)\n",
        "y_train_pred = np.argmax(Y_pred, axis=1)"
      ],
      "metadata": {
        "id": "VNhGlMhs82Fr"
      },
      "execution_count": null,
      "outputs": []
    },
    {
      "cell_type": "code",
      "source": [
        "labels = sorted(os.listdir('/content/Garbage classification/test'))\n",
        "\n",
        "print('Classification Report')\n",
        "print(classification_report(test_generator.classes, y_train_pred, target_names=labels, zero_division=1))\n",
        "\n",
        "print('Confusion Matrix')\n",
        "cnf_matrix = confusion_matrix(test_generator.classes, y_train_pred)\n",
        "\n",
        "plt.figure()\n",
        "plot_confusion_matrix(cnf_matrix, classes=labels, title='Confusion matrix of VGG-16')"
      ],
      "metadata": {
        "colab": {
          "base_uri": "https://localhost:8080/",
          "height": 571
        },
        "id": "Dp05dYFL86hK",
        "outputId": "8367a788-0305-413e-9db0-1a33d11c6fe5"
      },
      "execution_count": null,
      "outputs": [
        {
          "output_type": "stream",
          "name": "stdout",
          "text": [
            "Classification Report\n",
            "              precision    recall  f1-score   support\n",
            "\n",
            "   cardboard       0.60      0.91      0.73       160\n",
            "       glass       0.67      0.73      0.70       161\n",
            "       metal       0.68      0.57      0.62       159\n",
            "       paper       0.79      0.60      0.68       160\n",
            "     plastic       0.55      0.53      0.54       160\n",
            "       trash       0.56      0.47      0.51       161\n",
            "\n",
            "    accuracy                           0.63       961\n",
            "   macro avg       0.64      0.63      0.63       961\n",
            "weighted avg       0.64      0.63      0.63       961\n",
            "\n",
            "Confusion Matrix\n"
          ]
        },
        {
          "output_type": "display_data",
          "data": {
            "image/png": "[encoded data removed]",
            "text/plain": [
              "<Figure size 432x288 with 2 Axes>"
            ]
          },
          "metadata": {
            "needs_background": "light"
          }
        }
      ]
    }
  ]
}
