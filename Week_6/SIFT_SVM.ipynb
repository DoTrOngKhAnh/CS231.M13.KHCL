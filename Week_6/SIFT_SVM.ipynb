{
  "nbformat": 4,
  "nbformat_minor": 0,
  "metadata": {
    "colab": {
      "name": "SIFT_SVM.ipynb",
      "provenance": [],
      "collapsed_sections": []
    },
    "kernelspec": {
      "display_name": "Python 3",
      "name": "python3"
    },
    "language_info": {
      "name": "python"
    }
  },
  "cells": [
    {
      "cell_type": "markdown",
      "metadata": {
        "id": "IwMZqMNjZ9Jl"
      },
      "source": [
        "<h1 align='center'>Classification Animal Face</h1>\n",
        "<h1 align='center'>SIFT In Open CV (Scale-Invariant Feature Transform)</h1>"
      ]
    },
    {
      "cell_type": "markdown",
      "metadata": {
        "id": "xNh_L-Y9aP1h"
      },
      "source": [
        "# Download Data From Driver"
      ]
    },
    {
      "cell_type": "code",
      "metadata": {
        "colab": {
          "base_uri": "https://localhost:8080/"
        },
        "id": "r1bwTMyvahVd",
        "outputId": "a43e5ed4-b655-407b-f671-6400ccc86184"
      },
      "source": [
        "%cd '/content'\n",
        "!gdown https://drive.google.com/uc?id=1uG05PyClwmZWgxYdUFztDYUB7GMZ8L-a"
      ],
      "execution_count": 7,
      "outputs": [
        {
          "output_type": "stream",
          "name": "stdout",
          "text": [
            "/content\n",
            "Downloading...\n",
            "From: https://drive.google.com/uc?id=1uG05PyClwmZWgxYdUFztDYUB7GMZ8L-a\n",
            "To: /content/Animal Face Dataset.zip\n",
            "100% 127M/127M [00:01<00:00, 109MB/s] \n"
          ]
        }
      ]
    },
    {
      "cell_type": "code",
      "metadata": {
        "id": "LdWdoQE2bPxz"
      },
      "source": [
        "!unzip '/content/Animal Face Dataset.zip'"
      ],
      "execution_count": null,
      "outputs": []
    },
    {
      "cell_type": "markdown",
      "metadata": {
        "id": "AgMBblkmXL7J"
      },
      "source": [
        "# Install OpenCV 4.4.0"
      ]
    },
    {
      "cell_type": "code",
      "metadata": {
        "colab": {
          "base_uri": "https://localhost:8080/"
        },
        "id": "Jk_JsuyBEP72",
        "outputId": "1dd5b40a-a532-4e46-9db4-24621e508632"
      },
      "source": [
        "!pip install opencv-contrib-python==4.4.0.44"
      ],
      "execution_count": null,
      "outputs": [
        {
          "output_type": "stream",
          "name": "stdout",
          "text": [
            "Collecting opencv-contrib-python==4.4.0.44\n",
            "  Downloading opencv_contrib_python-4.4.0.44-cp37-cp37m-manylinux2014_x86_64.whl (55.7 MB)\n",
            "\u001b[K     |████████████████████████████████| 55.7 MB 53 kB/s \n",
            "\u001b[?25hRequirement already satisfied: numpy>=1.14.5 in /usr/local/lib/python3.7/dist-packages (from opencv-contrib-python==4.4.0.44) (1.19.5)\n",
            "Installing collected packages: opencv-contrib-python\n",
            "  Attempting uninstall: opencv-contrib-python\n",
            "    Found existing installation: opencv-contrib-python 4.1.2.30\n",
            "    Uninstalling opencv-contrib-python-4.1.2.30:\n",
            "      Successfully uninstalled opencv-contrib-python-4.1.2.30\n",
            "Successfully installed opencv-contrib-python-4.4.0.44\n"
          ]
        }
      ]
    },
    {
      "cell_type": "markdown",
      "metadata": {
        "id": "cB4fq4RNXVs-"
      },
      "source": [
        "# Import Libary"
      ]
    },
    {
      "cell_type": "code",
      "metadata": {
        "id": "XjRjqHoL9M3O"
      },
      "source": [
        "import os\n",
        "import cv2\n",
        "from google.colab.patches import cv2_imshow\n",
        "import numpy as np\n",
        "import pandas as pd\n",
        "from sklearn.model_selection import train_test_split\n",
        "from sklearn.metrics import accuracy_score, confusion_matrix, classification_report"
      ],
      "execution_count": 2,
      "outputs": []
    },
    {
      "cell_type": "markdown",
      "metadata": {
        "id": "Sb10e3KEXaGf"
      },
      "source": [
        "# Statistics and Data Processing"
      ]
    },
    {
      "cell_type": "code",
      "metadata": {
        "id": "_X23VXCYB-D5"
      },
      "source": [
        "labels = os.listdir('/content/Animal Face Dataset')\n",
        "source_path = '/content/Animal Face Dataset'\n",
        "join = os.path.join"
      ],
      "execution_count": 25,
      "outputs": []
    },
    {
      "cell_type": "code",
      "metadata": {
        "id": "UxFTy29YL_pH"
      },
      "source": [
        "# Hàm lấy link từng ảnh\n",
        "def getLink(path):\n",
        "  ans = []\n",
        "  label = []\n",
        "  index = 0\n",
        "  list_folder = [join(path, f) for f in os.listdir(path)]\n",
        "\n",
        "  for f in list_folder:\n",
        "    list_img = [join(f, img) for img in os.listdir(f)]\n",
        "    for img_link in list_img:\n",
        "      ans.append(img_link)\n",
        "      label.append(index)\n",
        "    index += 1\n",
        "  return ans, label"
      ],
      "execution_count": 9,
      "outputs": []
    },
    {
      "cell_type": "code",
      "metadata": {
        "id": "vd5NM1aBTNWO"
      },
      "source": [
        "img_paths = [] # Chứa link đến từng ảnh\n",
        "labels = [] # Chứa label từng ảnh\n",
        "img_paths, labels = getLink(\"/content/Animal Face Dataset\")"
      ],
      "execution_count": 12,
      "outputs": []
    },
    {
      "cell_type": "markdown",
      "metadata": {
        "id": "MP6sV5S6YANO"
      },
      "source": [
        "# Use SIFT to Feature Selection"
      ]
    },
    {
      "cell_type": "code",
      "metadata": {
        "id": "-da4Z7jhRdns"
      },
      "source": [
        "def CalcFeatures(img):\n",
        "    sift = cv2.xfeatures2d.SIFT_create()\n",
        "    kp, des = sift.detectAndCompute(img, None)\n",
        "    return des"
      ],
      "execution_count": null,
      "outputs": []
    },
    {
      "cell_type": "code",
      "metadata": {
        "id": "j3gYvCM3Rykv"
      },
      "source": [
        "features = []\n",
        "i = 1\n",
        "for f in img_paths:\n",
        "  img = cv2.imread(f)\n",
        "  gray = cv2.cvtColor(img, cv2.COLOR_BGR2GRAY)\n",
        "  img_des = CalcFeatures(gray)\n",
        "  if img_des is not None:\n",
        "    features.append(img_des)\n",
        "  print(i)\n",
        "  i+=1"
      ],
      "execution_count": null,
      "outputs": []
    },
    {
      "cell_type": "code",
      "metadata": {
        "id": "ZD5AV912DrJS"
      },
      "source": [
        "features"
      ],
      "execution_count": null,
      "outputs": []
    },
    {
      "cell_type": "code",
      "metadata": {
        "colab": {
          "base_uri": "https://localhost:8080/"
        },
        "id": "K2t4T_OIbEFR",
        "outputId": "408003c9-b6f7-454a-b6bb-e8deebfab5d5"
      },
      "source": [
        "features_ = np.vstack(features)\n",
        "len(features_)"
      ],
      "execution_count": null,
      "outputs": [
        {
          "output_type": "execute_result",
          "data": {
            "text/plain": [
              "3545056"
            ]
          },
          "metadata": {},
          "execution_count": 10
        }
      ]
    },
    {
      "cell_type": "markdown",
      "metadata": {
        "id": "m1UJX0cZQajv"
      },
      "source": [
        "# Use K-Means Clustering"
      ]
    },
    {
      "cell_type": "code",
      "metadata": {
        "id": "zblE8VrdQhJF"
      },
      "source": [
        "# K-Means clustering is then performed on the feature array obtained from the previous step. \n",
        "# The centres obtained after clustering are further used for bagging of features.\n",
        "k = 1000\n",
        "criteria = (cv2.TERM_CRITERIA_EPS + cv2.TERM_CRITERIA_MAX_ITER, 10, 0.1)\n",
        "flags = cv2.KMEANS_RANDOM_CENTERS\n",
        "compactness, labels_, centres = cv2.kmeans(features_, k, None, criteria, 10, flags)"
      ],
      "execution_count": null,
      "outputs": []
    },
    {
      "cell_type": "markdown",
      "metadata": {
        "id": "WBiONkR9jF2a"
      },
      "source": [
        "# Bag of Features"
      ]
    },
    {
      "cell_type": "code",
      "metadata": {
        "id": "M3wWhcCNjI5E"
      },
      "source": [
        "def bag_of_features(features, centres, k = 1000):\n",
        "      vec = np.zeros((1, k))\n",
        "      for i in range(features.shape[0]):\n",
        "          feat = features[i]\n",
        "          diff = np.tile(feat, (k, 1)) - centres\n",
        "          dist = pow(((pow(diff, 2)).sum(axis = 1)), 0.5)\n",
        "          idx_dist = dist.argsort()\n",
        "          idx = idx_dist[0]\n",
        "          vec[0][idx] += 1\n",
        "      return vec"
      ],
      "execution_count": null,
      "outputs": []
    },
    {
      "cell_type": "code",
      "metadata": {
        "id": "37M-8VmGkXjr"
      },
      "source": [
        "vec = []\n",
        "for f in img_paths:\n",
        "  img = cv2.imread(f)\n",
        "  gray = cv2.cvtColor(img, cv2.COLOR_BGR2GRAY)\n",
        "  img_des = CalcFeatures(gray)\n",
        "  if img_des is not None:\n",
        "    img_vec = bag_of_features(img_des, centres, k)\n",
        "    vec.append(img_vec)"
      ],
      "execution_count": null,
      "outputs": []
    },
    {
      "cell_type": "code",
      "metadata": {
        "id": "1GUd_It3lmtq",
        "colab": {
          "base_uri": "https://localhost:8080/"
        },
        "outputId": "dd145afe-6b23-4b9c-98c6-8e538b42ebad"
      },
      "source": [
        "vec_ = np.vstack(vec)\n",
        "vec_"
      ],
      "execution_count": null,
      "outputs": [
        {
          "output_type": "execute_result",
          "data": {
            "text/plain": [
              "array([[0., 0., 1., ..., 0., 1., 3.],\n",
              "       [0., 0., 2., ..., 4., 0., 4.],\n",
              "       [0., 0., 0., ..., 1., 0., 3.],\n",
              "       ...,\n",
              "       [0., 0., 0., ..., 1., 0., 0.],\n",
              "       [2., 1., 0., ..., 1., 0., 0.],\n",
              "       [0., 0., 1., ..., 1., 0., 2.]])"
            ]
          },
          "metadata": {},
          "execution_count": 14
        }
      ]
    },
    {
      "cell_type": "markdown",
      "metadata": {
        "id": "xh9QYX4e3xcx"
      },
      "source": [
        "## Load data vec from drive"
      ]
    },
    {
      "cell_type": "code",
      "metadata": {
        "colab": {
          "base_uri": "https://localhost:8080/"
        },
        "id": "mbkH8PoJ3wEX",
        "outputId": "96c38cf1-8f43-453a-fa74-23294aa2ec99"
      },
      "source": [
        "from google.colab import drive\n",
        "drive.mount('/gdrive')"
      ],
      "execution_count": 1,
      "outputs": [
        {
          "output_type": "stream",
          "name": "stdout",
          "text": [
            "Mounted at /gdrive\n"
          ]
        }
      ]
    },
    {
      "cell_type": "code",
      "metadata": {
        "colab": {
          "base_uri": "https://localhost:8080/"
        },
        "id": "7AInI3sm4MK0",
        "outputId": "e356cbdd-08f7-43e8-92f3-897a76ad28ad"
      },
      "source": [
        "vec_ = pd.read_csv(\"/gdrive/MyDrive/Features_vec/vec.csv\")"
      ],
      "execution_count": 13,
      "outputs": [
        {
          "output_type": "execute_result",
          "data": {
            "text/plain": [
              "2763"
            ]
          },
          "metadata": {},
          "execution_count": 13
        }
      ]
    },
    {
      "cell_type": "markdown",
      "metadata": {
        "id": "8aK2iJ8dBNkQ"
      },
      "source": [
        "# Split Data: Train, Test"
      ]
    },
    {
      "cell_type": "code",
      "metadata": {
        "id": "ANotKC_06WdT"
      },
      "source": [
        "X_train, X_test, y_train, y_test = train_test_split(vec_, labels, test_size = 0.2)"
      ],
      "execution_count": 14,
      "outputs": []
    },
    {
      "cell_type": "markdown",
      "metadata": {
        "id": "emSGZ0tIBkpn"
      },
      "source": [
        "# Training and Evaluation Model"
      ]
    },
    {
      "cell_type": "markdown",
      "metadata": {
        "id": "2pbkRnj_jOAN"
      },
      "source": [
        "## Function Plot Confusion Matrix"
      ]
    },
    {
      "cell_type": "code",
      "metadata": {
        "id": "0NkuuY8KjNY2"
      },
      "source": [
        "import matplotlib.pyplot as plt\n",
        "import itertools\n",
        "def plot_confusion_matrix(cm, classes, normalize=False, title='Confusion matrix', cmap=plt.cm.Blues):\n",
        "    if normalize:\n",
        "        cm = cm.astype('float') / cm.sum(axis=1, keepdims = True)\n",
        "\n",
        "    plt.imshow(cm, interpolation='nearest', cmap=cmap)\n",
        "    plt.title(title)\n",
        "    plt.colorbar()\n",
        "    tick_marks = np.arange(len(classes))\n",
        "    plt.xticks(tick_marks, classes, rotation=45)\n",
        "    plt.yticks(tick_marks, classes)\n",
        "\n",
        "    fmt = '.2f' if normalize else 'd'\n",
        "    thresh = cm.max() / 2.\n",
        "    for i, j in itertools.product(range(cm.shape[0]), range(cm.shape[1])):\n",
        "        plt.text(j, i, format(cm[i, j], fmt),\n",
        "                 horizontalalignment=\"center\",\n",
        "                 color=\"white\" if cm[i, j] > thresh else \"black\")\n",
        "\n",
        "    plt.tight_layout()\n",
        "    plt.ylabel('True label')\n",
        "    plt.xlabel('Predicted label')"
      ],
      "execution_count": 15,
      "outputs": []
    },
    {
      "cell_type": "markdown",
      "metadata": {
        "id": "DbLTc-GLjh_r"
      },
      "source": [
        "## Model Support Vector Machine (SVM)"
      ]
    },
    {
      "cell_type": "code",
      "metadata": {
        "id": "IwcLrZuoBn6g",
        "colab": {
          "base_uri": "https://localhost:8080/"
        },
        "outputId": "254f817f-064b-4789-e706-4eb68c9ab068"
      },
      "source": [
        "from sklearn import svm\n",
        "model_SVM = svm.SVC()\n",
        "model_SVM.fit(X_train, y_train)"
      ],
      "execution_count": 28,
      "outputs": [
        {
          "output_type": "execute_result",
          "data": {
            "text/plain": [
              "SVC(C=1.0, break_ties=False, cache_size=200, class_weight=None, coef0=0.0,\n",
              "    decision_function_shape='ovr', degree=3, gamma='scale', kernel='rbf',\n",
              "    max_iter=-1, probability=False, random_state=None, shrinking=True,\n",
              "    tol=0.001, verbose=False)"
            ]
          },
          "metadata": {},
          "execution_count": 28
        }
      ]
    },
    {
      "cell_type": "code",
      "metadata": {
        "id": "PkLPkkNGaKn-"
      },
      "source": [
        "y_predict = model_SVM.predict(X_test)\n",
        "acc = accuracy_score(y_test, y_predict)\n",
        "cnf_matrix = confusion_matrix(y_test, y_predict)"
      ],
      "execution_count": 29,
      "outputs": []
    },
    {
      "cell_type": "code",
      "metadata": {
        "colab": {
          "base_uri": "https://localhost:8080/",
          "height": 530
        },
        "id": "XJ0tW-v58J8S",
        "outputId": "519608e4-492c-4c2e-e130-1a664d00b94d"
      },
      "source": [
        "# classes_name = os.listdir('/content/Animal Face Dataset')\n",
        "classes_name = [\"dog\", \"fox\", \"lion\", \"wolf\", \"tiger\", \"cat\"]\n",
        "print(classification_report(y_test, y_predict, target_names=classes_name))\n",
        "plot_confusion_matrix(cnf_matrix, classes=classes_name, title='Confusion matrix, without normalization')"
      ],
      "execution_count": 30,
      "outputs": [
        {
          "output_type": "stream",
          "name": "stdout",
          "text": [
            "              precision    recall  f1-score   support\n",
            "\n",
            "         dog       0.62      0.71      0.66       107\n",
            "         fox       0.64      0.59      0.61        94\n",
            "        lion       0.87      0.84      0.85        94\n",
            "        wolf       0.62      0.68      0.65        96\n",
            "       tiger       0.86      0.82      0.84        85\n",
            "         cat       0.81      0.70      0.75        77\n",
            "\n",
            "    accuracy                           0.72       553\n",
            "   macro avg       0.74      0.72      0.73       553\n",
            "weighted avg       0.73      0.72      0.72       553\n",
            "\n"
          ]
        },
        {
          "output_type": "display_data",
          "data": {
            "image/png": "[encoded data removed]",
            "text/plain": [
              "<Figure size 432x288 with 2 Axes>"
            ]
          },
          "metadata": {
            "needs_background": "light"
          }
        }
      ]
    },
    {
      "cell_type": "markdown",
      "metadata": {
        "id": "GV01_TGe4-1K"
      },
      "source": [
        "## Model Logistic Regression"
      ]
    },
    {
      "cell_type": "code",
      "metadata": {
        "colab": {
          "base_uri": "https://localhost:8080/"
        },
        "id": "Vr-4Hm8V5NtA",
        "outputId": "6ae44921-9703-4375-c1ec-107c249d90cb"
      },
      "source": [
        "from sklearn.linear_model import LogisticRegression\n",
        "logistic_regression_model = LogisticRegression()\n",
        "logistic_regression_model.fit(X_train, y_train)"
      ],
      "execution_count": 31,
      "outputs": [
        {
          "output_type": "stream",
          "name": "stderr",
          "text": [
            "/usr/local/lib/python3.7/dist-packages/sklearn/linear_model/_logistic.py:940: ConvergenceWarning: lbfgs failed to converge (status=1):\n",
            "STOP: TOTAL NO. of ITERATIONS REACHED LIMIT.\n",
            "\n",
            "Increase the number of iterations (max_iter) or scale the data as shown in:\n",
            "    https://scikit-learn.org/stable/modules/preprocessing.html\n",
            "Please also refer to the documentation for alternative solver options:\n",
            "    https://scikit-learn.org/stable/modules/linear_model.html#logistic-regression\n",
            "  extra_warning_msg=_LOGISTIC_SOLVER_CONVERGENCE_MSG)\n"
          ]
        },
        {
          "output_type": "execute_result",
          "data": {
            "text/plain": [
              "LogisticRegression(C=1.0, class_weight=None, dual=False, fit_intercept=True,\n",
              "                   intercept_scaling=1, l1_ratio=None, max_iter=100,\n",
              "                   multi_class='auto', n_jobs=None, penalty='l2',\n",
              "                   random_state=None, solver='lbfgs', tol=0.0001, verbose=0,\n",
              "                   warm_start=False)"
            ]
          },
          "metadata": {},
          "execution_count": 31
        }
      ]
    },
    {
      "cell_type": "code",
      "metadata": {
        "id": "YuSSM77o5WU0"
      },
      "source": [
        "y_predict = logistic_regression_model.predict(X_test)"
      ],
      "execution_count": 32,
      "outputs": []
    },
    {
      "cell_type": "code",
      "metadata": {
        "colab": {
          "base_uri": "https://localhost:8080/",
          "height": 530
        },
        "id": "FjYYRBOZ5ZSk",
        "outputId": "bc51fb9a-1db1-4597-abdc-9153fee714bc"
      },
      "source": [
        "from sklearn.metrics import classification_report, confusion_matrix\n",
        "print(classification_report(y_test, y_predict, target_names=classes_name))\n",
        "\n",
        "cnf_matrix = confusion_matrix(y_test, y_predict)\n",
        "plt.figure()\n",
        "plot_confusion_matrix(cnf_matrix, classes=classes_name, title='Confusion matrix, without normalization')"
      ],
      "execution_count": 33,
      "outputs": [
        {
          "output_type": "stream",
          "name": "stdout",
          "text": [
            "              precision    recall  f1-score   support\n",
            "\n",
            "         dog       0.70      0.76      0.73       107\n",
            "         fox       0.58      0.52      0.55        94\n",
            "        lion       0.74      0.81      0.77        94\n",
            "        wolf       0.52      0.59      0.56        96\n",
            "       tiger       0.85      0.67      0.75        85\n",
            "         cat       0.76      0.73      0.74        77\n",
            "\n",
            "    accuracy                           0.68       553\n",
            "   macro avg       0.69      0.68      0.68       553\n",
            "weighted avg       0.69      0.68      0.68       553\n",
            "\n"
          ]
        },
        {
          "output_type": "display_data",
          "data": {
            "image/png": "[encoded data removed]",
            "text/plain": [
              "<Figure size 432x288 with 2 Axes>"
            ]
          },
          "metadata": {
            "needs_background": "light"
          }
        }
      ]
    }
  ]
}