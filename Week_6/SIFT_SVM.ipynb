{
  "nbformat": 4,
  "nbformat_minor": 0,
  "metadata": {
    "colab": {
      "name": "SIFT_SVM.ipynb",
      "provenance": [],
      "collapsed_sections": []
    },
    "kernelspec": {
      "display_name": "Python 3",
      "name": "python3"
    },
    "language_info": {
      "name": "python"
    }
  },
  "cells": [
    {
      "cell_type": "markdown",
      "metadata": {
        "id": "IwMZqMNjZ9Jl"
      },
      "source": [
        "<h1 align='center'>Classification Animal Face</h1>\n",
        "<h1 align='center'>SIFT In Open CV (Scale-Invariant Feature Transform)</h1>"
      ]
    },
    {
      "cell_type": "markdown",
      "metadata": {
        "id": "xNh_L-Y9aP1h"
      },
      "source": [
        "# Download Data From Driver"
      ]
    },
    {
      "cell_type": "code",
      "metadata": {
        "colab": {
          "base_uri": "https://localhost:8080/"
        },
        "id": "r1bwTMyvahVd",
        "outputId": "9186735d-da19-409d-8ac6-e597951815cc"
      },
      "source": [
        "%cd '/content'\n",
        "!gdown https://drive.google.com/uc?id=1uG05PyClwmZWgxYdUFztDYUB7GMZ8L-a"
      ],
      "execution_count": null,
      "outputs": [
        {
          "output_type": "stream",
          "name": "stdout",
          "text": [
            "/content\n",
            "Downloading...\n",
            "From: https://drive.google.com/uc?id=1uG05PyClwmZWgxYdUFztDYUB7GMZ8L-a\n",
            "To: /content/Animal Face Dataset.zip\n",
            "100% 127M/127M [00:00<00:00, 155MB/s]\n"
          ]
        }
      ]
    },
    {
      "cell_type": "code",
      "metadata": {
        "id": "LdWdoQE2bPxz"
      },
      "source": [
        "!unzip '/content/Animal Face Dataset.zip'"
      ],
      "execution_count": null,
      "outputs": []
    },
    {
      "cell_type": "markdown",
      "metadata": {
        "id": "AgMBblkmXL7J"
      },
      "source": [
        "# Install OpenCV 4.4.0"
      ]
    },
    {
      "cell_type": "code",
      "metadata": {
        "colab": {
          "base_uri": "https://localhost:8080/",
          "height": 273
        },
        "id": "Jk_JsuyBEP72",
        "outputId": "40bf5e12-917a-4072-b2f2-e855b6265ccf"
      },
      "source": [
        "!pip install opencv-contrib-python==4.4.0.44"
      ],
      "execution_count": null,
      "outputs": [
        {
          "output_type": "stream",
          "name": "stdout",
          "text": [
            "Collecting opencv-contrib-python==4.4.0.44\n",
            "  Downloading opencv_contrib_python-4.4.0.44-cp37-cp37m-manylinux2014_x86_64.whl (55.7 MB)\n",
            "\u001b[K     |████████████████████████████████| 55.7 MB 49 kB/s \n",
            "\u001b[?25hRequirement already satisfied: numpy>=1.14.5 in /usr/local/lib/python3.7/dist-packages (from opencv-contrib-python==4.4.0.44) (1.19.5)\n",
            "Installing collected packages: opencv-contrib-python\n",
            "  Attempting uninstall: opencv-contrib-python\n",
            "    Found existing installation: opencv-contrib-python 4.1.2.30\n",
            "    Uninstalling opencv-contrib-python-4.1.2.30:\n",
            "      Successfully uninstalled opencv-contrib-python-4.1.2.30\n",
            "Successfully installed opencv-contrib-python-4.4.0.44\n"
          ]
        },
        {
          "output_type": "display_data",
          "data": {
            "application/vnd.colab-display-data+json": {
              "pip_warning": {
                "packages": [
                  "cv2"
                ]
              }
            }
          },
          "metadata": {}
        }
      ]
    },
    {
      "cell_type": "markdown",
      "metadata": {
        "id": "cB4fq4RNXVs-"
      },
      "source": [
        "# Import Libary"
      ]
    },
    {
      "cell_type": "code",
      "metadata": {
        "id": "XjRjqHoL9M3O"
      },
      "source": [
        "import os\n",
        "import cv2\n",
        "from google.colab.patches import cv2_imshow\n",
        "import numpy as np\n",
        "import pandas as pd\n",
        "from sklearn.model_selection import train_test_split\n",
        "from sklearn.metrics import accuracy_score, confusion_matrix, classification_report"
      ],
      "execution_count": null,
      "outputs": []
    },
    {
      "cell_type": "markdown",
      "metadata": {
        "id": "Sb10e3KEXaGf"
      },
      "source": [
        "# Statistics and Data Processing"
      ]
    },
    {
      "cell_type": "code",
      "metadata": {
        "id": "_X23VXCYB-D5"
      },
      "source": [
        "labels = os.listdir('/content/Animal Face Dataset')\n",
        "source_path = '/content/Animal Face Dataset'\n",
        "join = os.path.join"
      ],
      "execution_count": null,
      "outputs": []
    },
    {
      "cell_type": "code",
      "metadata": {
        "id": "UxFTy29YL_pH"
      },
      "source": [
        "# Hàm lấy link từng ảnh\n",
        "def getLink(path):\n",
        "  ans = []\n",
        "  label = []\n",
        "  index = 0\n",
        "  list_folder = [join(path, f) for f in os.listdir(path)]\n",
        "\n",
        "  for f in list_folder:\n",
        "    list_img = [join(f, img) for img in os.listdir(f)]\n",
        "    for img_link in list_img:\n",
        "      ans.append(img_link)\n",
        "      label.append(index)\n",
        "    index += 1\n",
        "  return ans, label"
      ],
      "execution_count": null,
      "outputs": []
    },
    {
      "cell_type": "code",
      "metadata": {
        "id": "vd5NM1aBTNWO"
      },
      "source": [
        "img_paths = [] # Chứa link đến từng ảnh\n",
        "labels = [] # Chứa label từng ảnh\n",
        "img_paths, labels = getLink(\"/content/Animal Face Dataset\")"
      ],
      "execution_count": null,
      "outputs": []
    },
    {
      "cell_type": "markdown",
      "metadata": {
        "id": "MP6sV5S6YANO"
      },
      "source": [
        "# Use SIFT to Feature Selection"
      ]
    },
    {
      "cell_type": "code",
      "metadata": {
        "id": "-da4Z7jhRdns"
      },
      "source": [
        "def CalcFeatures(img):\n",
        "    sift = cv2.xfeatures2d.SIFT_create()\n",
        "    kp, des = sift.detectAndCompute(img, None)\n",
        "    return des"
      ],
      "execution_count": null,
      "outputs": []
    },
    {
      "cell_type": "code",
      "metadata": {
        "id": "j3gYvCM3Rykv"
      },
      "source": [
        "features = []\n",
        "for f in img_paths:\n",
        "  img = cv2.imread(f)\n",
        "  gray = cv2.cvtColor(img, cv2.COLOR_BGR2GRAY)\n",
        "  img_des = CalcFeatures(gray)\n",
        "  if img_des is not None:\n",
        "    features.append(img_des)"
      ],
      "execution_count": null,
      "outputs": []
    },
    {
      "cell_type": "code",
      "metadata": {
        "id": "ZD5AV912DrJS"
      },
      "source": [
        "features"
      ],
      "execution_count": null,
      "outputs": []
    },
    {
      "cell_type": "code",
      "metadata": {
        "colab": {
          "base_uri": "https://localhost:8080/"
        },
        "id": "K2t4T_OIbEFR",
        "outputId": "216193dd-8ae8-4ccd-83d2-2663a1eb0f39"
      },
      "source": [
        "features_ = np.vstack(features)\n",
        "len(features_)"
      ],
      "execution_count": null,
      "outputs": [
        {
          "output_type": "execute_result",
          "data": {
            "text/plain": [
              "3545056"
            ]
          },
          "metadata": {},
          "execution_count": 9
        }
      ]
    },
    {
      "cell_type": "markdown",
      "metadata": {
        "id": "m1UJX0cZQajv"
      },
      "source": [
        "# Use K-Means Clustering"
      ]
    },
    {
      "cell_type": "code",
      "metadata": {
        "id": "zblE8VrdQhJF"
      },
      "source": [
        "# K-Means clustering is then performed on the feature array obtained from the previous step. \n",
        "# The centres obtained after clustering are further used for bagging of features.\n",
        "k = 500\n",
        "criteria = (cv2.TERM_CRITERIA_EPS + cv2.TERM_CRITERIA_MAX_ITER, 10, 0.1)\n",
        "flags = cv2.KMEANS_RANDOM_CENTERS\n",
        "compactness, labels, centres = cv2.kmeans(features_, k, None, criteria, 10, flags)"
      ],
      "execution_count": null,
      "outputs": []
    },
    {
      "cell_type": "markdown",
      "metadata": {
        "id": "WBiONkR9jF2a"
      },
      "source": [
        "# Bag of Features"
      ]
    },
    {
      "cell_type": "code",
      "metadata": {
        "id": "M3wWhcCNjI5E"
      },
      "source": [
        "def bag_of_features(features, centres, k = 1000):\n",
        "      vec = np.zeros((1, k))\n",
        "      for i in range(features.shape[0]):\n",
        "          feat = features[i]\n",
        "          diff = np.tile(feat, (k, 1)) - centres\n",
        "          dist = pow(((pow(diff, 2)).sum(axis = 1)), 0.5)\n",
        "          idx_dist = dist.argsort()\n",
        "          idx = idx_dist[0]\n",
        "          vec[0][idx] += 1\n",
        "      return vec"
      ],
      "execution_count": null,
      "outputs": []
    },
    {
      "cell_type": "code",
      "metadata": {
        "id": "37M-8VmGkXjr"
      },
      "source": [
        "vec = []\n",
        "labels = []\n",
        "i = 1\n",
        "for f in img_paths:\n",
        "  img = cv2.imread(f)\n",
        "  gray = cv2.cvtColor(img, cv2.COLOR_BGR2GRAY)\n",
        "  img_des = CalcFeatures(gray)\n",
        "  if img_des is not None:\n",
        "    img_vec = bag_of_features(img_des, centres, k)\n",
        "    vec.append(img_vec)\n",
        "  print(i)\n",
        "  i += 1"
      ],
      "execution_count": null,
      "outputs": []
    },
    {
      "cell_type": "code",
      "metadata": {
        "id": "1GUd_It3lmtq",
        "colab": {
          "base_uri": "https://localhost:8080/"
        },
        "outputId": "50bd9c52-ebca-4134-d6da-782f48c0eb18"
      },
      "source": [
        "vec_ = np.vstack(vec)\n",
        "vec_"
      ],
      "execution_count": null,
      "outputs": [
        {
          "output_type": "execute_result",
          "data": {
            "text/plain": [
              "array([[1., 0., 1., ..., 2., 1., 2.],\n",
              "       [2., 1., 2., ..., 5., 2., 3.],\n",
              "       [0., 0., 3., ..., 1., 1., 2.],\n",
              "       ...,\n",
              "       [7., 0., 2., ..., 1., 0., 4.],\n",
              "       [4., 2., 3., ..., 1., 1., 3.],\n",
              "       [0., 0., 0., ..., 0., 1., 1.]])"
            ]
          },
          "metadata": {},
          "execution_count": 13
        }
      ]
    },
    {
      "cell_type": "markdown",
      "metadata": {
        "id": "8aK2iJ8dBNkQ"
      },
      "source": [
        "# Split Data: Train, Test"
      ]
    },
    {
      "cell_type": "code",
      "metadata": {
        "id": "ANotKC_06WdT"
      },
      "source": [
        "X_train, X_test, y_train, y_test = train_test_split(vec_, labels, test_size = 0.2)"
      ],
      "execution_count": null,
      "outputs": []
    },
    {
      "cell_type": "markdown",
      "metadata": {
        "id": "emSGZ0tIBkpn"
      },
      "source": [
        "# Training and Evaluation Model"
      ]
    },
    {
      "cell_type": "markdown",
      "metadata": {
        "id": "2pbkRnj_jOAN"
      },
      "source": [
        "## Function Plot Confusion Matrix"
      ]
    },
    {
      "cell_type": "code",
      "metadata": {
        "id": "0NkuuY8KjNY2"
      },
      "source": [
        "import matplotlib.pyplot as plt\n",
        "import itertools\n",
        "def plot_confusion_matrix(cm, classes, normalize=False, title='Confusion matrix', cmap=plt.cm.Blues):\n",
        "    if normalize:\n",
        "        cm = cm.astype('float') / cm.sum(axis=1, keepdims = True)\n",
        "\n",
        "    plt.imshow(cm, interpolation='nearest', cmap=cmap)\n",
        "    plt.title(title)\n",
        "    plt.colorbar()\n",
        "    tick_marks = np.arange(len(classes))\n",
        "    plt.xticks(tick_marks, classes, rotation=45)\n",
        "    plt.yticks(tick_marks, classes)\n",
        "\n",
        "    fmt = '.2f' if normalize else 'd'\n",
        "    thresh = cm.max() / 2.\n",
        "    for i, j in itertools.product(range(cm.shape[0]), range(cm.shape[1])):\n",
        "        plt.text(j, i, format(cm[i, j], fmt),\n",
        "                 horizontalalignment=\"center\",\n",
        "                 color=\"white\" if cm[i, j] > thresh else \"black\")\n",
        "\n",
        "    plt.tight_layout()\n",
        "    plt.ylabel('True label')\n",
        "    plt.xlabel('Predicted label')"
      ],
      "execution_count": null,
      "outputs": []
    },
    {
      "cell_type": "markdown",
      "metadata": {
        "id": "DbLTc-GLjh_r"
      },
      "source": [
        "## Model Support Vector Machine (SVM)"
      ]
    },
    {
      "cell_type": "code",
      "metadata": {
        "id": "IwcLrZuoBn6g",
        "colab": {
          "base_uri": "https://localhost:8080/"
        },
        "outputId": "6718d39e-f1da-444c-eb62-1f22f16623f6"
      },
      "source": [
        "from sklearn import svm\n",
        "model_SVM = svm.SVC()\n",
        "model_SVM.fit(X_train, y_train)"
      ],
      "execution_count": null,
      "outputs": [
        {
          "output_type": "execute_result",
          "data": {
            "text/plain": [
              "SVC(C=1.0, break_ties=False, cache_size=200, class_weight=None, coef0=0.0,\n",
              "    decision_function_shape='ovr', degree=3, gamma='scale', kernel='rbf',\n",
              "    max_iter=-1, probability=False, random_state=None, shrinking=True,\n",
              "    tol=0.001, verbose=False)"
            ]
          },
          "metadata": {},
          "execution_count": 23
        }
      ]
    },
    {
      "cell_type": "code",
      "metadata": {
        "id": "PkLPkkNGaKn-"
      },
      "source": [
        "y_predict = model_SVM.predict(X_test)\n",
        "acc = accuracy_score(y_test, y_predict)\n",
        "cnf_matrix = confusion_matrix(y_test, y_predict)"
      ],
      "execution_count": null,
      "outputs": []
    },
    {
      "cell_type": "code",
      "metadata": {
        "colab": {
          "base_uri": "https://localhost:8080/",
          "height": 532
        },
        "id": "XJ0tW-v58J8S",
        "outputId": "cef20995-09d3-4593-b113-fffd39f98f54"
      },
      "source": [
        "classes_name = os.listdir('/content/Animal Face Dataset')\n",
        "print(classification_report(y_test, y_predict, target_names=classes_name))\n",
        "plot_confusion_matrix(cnf_matrix, classes=classes_name, title='Confusion matrix, without normalization')"
      ],
      "execution_count": null,
      "outputs": [
        {
          "output_type": "stream",
          "name": "stdout",
          "text": [
            "              precision    recall  f1-score   support\n",
            "\n",
            "         dog       0.59      0.74      0.66        84\n",
            "         fox       0.69      0.52      0.59       102\n",
            "        lion       0.78      0.74      0.76       100\n",
            "        wolf       0.60      0.74      0.66        78\n",
            "       tiger       0.89      0.95      0.92        96\n",
            "         cat       0.87      0.72      0.79        93\n",
            "\n",
            "    accuracy                           0.73       553\n",
            "   macro avg       0.74      0.73      0.73       553\n",
            "weighted avg       0.74      0.73      0.73       553\n",
            "\n"
          ]
        },
        {
          "output_type": "display_data",
          "data": {
            "image/png": "[encoded data removed]",
            "text/plain": [
              "<Figure size 432x288 with 2 Axes>"
            ]
          },
          "metadata": {
            "needs_background": "light"
          }
        }
      ]
    }
  ]
}